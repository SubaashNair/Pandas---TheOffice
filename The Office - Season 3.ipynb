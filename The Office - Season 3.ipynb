{
 "cells": [
  {
   "cell_type": "code",
   "execution_count": 15,
   "id": "3f67f2d2",
   "metadata": {},
   "outputs": [
    {
     "name": "stdout",
     "output_type": "stream",
     "text": [
      "***********************************************\n",
      "0\n",
      "  Season Episodes               Originally aired                    Rank  \\\n",
      "  Season Episodes Episodes.1         First aired      Last aired    Rank   \n",
      "0      1        6          6      March 24, 2005  April 26, 2005  102[5]   \n",
      "1      2       22         22  September 20, 2005    May 11, 2006   67[6]   \n",
      "2      3       25         25  September 21, 2006    May 17, 2007   68[7]   \n",
      "3      4       19         19  September 27, 2007    May 15, 2008   77[8]   \n",
      "4      5       28         28  September 25, 2008    May 14, 2009   52[9]   \n",
      "5      6       26         26  September 17, 2009    May 20, 2010  52[10]   \n",
      "6      7       26         26  September 23, 2010    May 19, 2011  53[11]   \n",
      "7      8       24         24  September 22, 2011    May 10, 2012  87[12]   \n",
      "8      9       25         25  September 20, 2012    May 16, 2013  94[13]   \n",
      "\n",
      "  Average viewership(in millions)  \n",
      "  Average viewership(in millions)  \n",
      "0                             5.4  \n",
      "1                             8.0  \n",
      "2                             8.3  \n",
      "3                             8.9  \n",
      "4                             9.0  \n",
      "5                             7.8  \n",
      "6                             7.7  \n",
      "7                             6.5  \n",
      "8                             5.1  \n",
      "***********************************************\n",
      "1\n",
      "   No.overall  No. inseason            Title      Directed by  \\\n",
      "0           1             1          \"Pilot\"       Ken Kwapis   \n",
      "1           2             2  \"Diversity Day\"       Ken Kwapis   \n",
      "2           3             3    \"Health Care\"  Ken Whittingham   \n",
      "3           4             4   \"The Alliance\"     Bryan Gordon   \n",
      "4           5             5     \"Basketball\"     Greg Daniels   \n",
      "5           6             6       \"Hot Girl\"   Amy Heckerling   \n",
      "\n",
      "                                          Written by Original air date [16]  \\\n",
      "0  Ricky Gervais & Stephen Merchant and Greg Daniels         March 24, 2005   \n",
      "1                                        B. J. Novak         March 29, 2005   \n",
      "2                                   Paul Lieberstein          April 5, 2005   \n",
      "3                                      Michael Schur         April 12, 2005   \n",
      "4                                       Greg Daniels         April 19, 2005   \n",
      "5                                       Mindy Kaling         April 26, 2005   \n",
      "\n",
      "   Prod.code [16] U.S. viewers(millions)  \n",
      "0            1001              11.20[17]  \n",
      "1            1002               6.00[18]  \n",
      "2            1006               5.80[19]  \n",
      "3            1004               5.40[20]  \n",
      "4            1005               5.00[21]  \n",
      "5            1003               4.80[17]  \n",
      "***********************************************\n",
      "2\n",
      "    No.overall  No. inseason                             Title  \\\n",
      "0            7             1                     \"The Dundies\"   \n",
      "1            8             2               \"Sexual Harassment\"   \n",
      "2            9             3                 \"Office Olympics\"   \n",
      "3           10             4                        \"The Fire\"   \n",
      "4           11             5                       \"Halloween\"   \n",
      "5           12             6                       \"The Fight\"   \n",
      "6           13             7                      \"The Client\"   \n",
      "7           14             8              \"Performance Review\"   \n",
      "8           15             9              \"Email Surveillance\"   \n",
      "9           16            10                 \"Christmas Party\"   \n",
      "10          17            11                    \"Booze Cruise\"   \n",
      "11          18            12                      \"The Injury\"   \n",
      "12          19            13                      \"The Secret\"   \n",
      "13          20            14                      \"The Carpet\"   \n",
      "14          21            15                  \"Boys and Girls\"   \n",
      "15          22            16                 \"Valentine's Day\"   \n",
      "16          23            17                 \"Dwight's Speech\"   \n",
      "17          24            18  \"Take Your Daughter to Work Day\"   \n",
      "18          25            19              \"Michael's Birthday\"   \n",
      "19          26            20                    \"Drug Testing\"   \n",
      "20          27            21             \"Conflict Resolution\"   \n",
      "21          28            22                   \"Casino Night\"†   \n",
      "\n",
      "          Directed by                       Written by Original air date [16]  \\\n",
      "0        Greg Daniels                     Mindy Kaling     September 20, 2005   \n",
      "1          Ken Kwapis                      B. J. Novak     September 27, 2005   \n",
      "2           Paul Feig                    Michael Schur        October 4, 2005   \n",
      "3          Ken Kwapis                      B. J. Novak       October 11, 2005   \n",
      "4           Paul Feig                     Greg Daniels       October 18, 2005   \n",
      "5          Ken Kwapis  Gene Stupnitsky & Lee Eisenberg       November 1, 2005   \n",
      "6        Greg Daniels                 Paul Lieberstein       November 8, 2005   \n",
      "7           Paul Feig                    Larry Wilmore      November 15, 2005   \n",
      "8           Paul Feig                 Jennifer Celotta      November 22, 2005   \n",
      "9   Charles McDougall                    Michael Schur       December 6, 2005   \n",
      "10         Ken Kwapis                     Greg Daniels        January 5, 2006   \n",
      "11       Bryan Gordon                     Mindy Kaling       January 12, 2006   \n",
      "12      Dennie Gordon  Lee Eisenberg & Gene Stupnitsky       January 19, 2006   \n",
      "13  Victor Nelli, Jr.                 Paul Lieberstein       January 26, 2006   \n",
      "14      Dennie Gordon                      B. J. Novak       February 2, 2006   \n",
      "15       Greg Daniels                    Michael Schur       February 9, 2006   \n",
      "16  Charles McDougall                 Paul Lieberstein          March 2, 2006   \n",
      "17  Victor Nelli, Jr.                     Mindy Kaling         March 16, 2006   \n",
      "18    Ken Whittingham  Gene Stupnitsky & Lee Eisenberg         March 30, 2006   \n",
      "19       Greg Daniels                 Jennifer Celotta         April 27, 2006   \n",
      "20  Charles McDougall                     Greg Daniels            May 4, 2006   \n",
      "21         Ken Kwapis                     Steve Carell           May 11, 2006   \n",
      "\n",
      "    Prod.code [16] U.S. viewers(millions)  \n",
      "0             2003               9.00[28]  \n",
      "1             2002               7.13[29]  \n",
      "2             2004               8.30[30]  \n",
      "3             2001               7.60[31]  \n",
      "4             2006               8.00[32]  \n",
      "5             2007               7.90[33]  \n",
      "6             2005               7.50[34]  \n",
      "7             2009               8.00[35]  \n",
      "8             2008               8.10[36]  \n",
      "9             2010               9.70[28]  \n",
      "10            2013               8.70[37]  \n",
      "11            2011              10.30[38]  \n",
      "12            2014               8.70[39]  \n",
      "13            2012               8.60[40]  \n",
      "14            2015           9.21[41][42]  \n",
      "15            2016               8.95[43]  \n",
      "16            2017               8.40[44]  \n",
      "17            2018               8.80[45]  \n",
      "18            2019               7.80[46]  \n",
      "19            2022               7.80[47]  \n",
      "20            2020               7.40[48]  \n",
      "21            2021               7.60[28]  \n",
      "***********************************************\n",
      "3\n",
      "    No.overall  No. inseason                    Title      Directed by  \\\n",
      "0           29             1         \"Gay Witch Hunt\"       Ken Kwapis   \n",
      "1           30             2         \"The Convention\"  Ken Whittingham   \n",
      "2           31             3               \"The Coup\"     Greg Daniels   \n",
      "3           32             4       \"Grief Counseling\"     Roger Nygard   \n",
      "4           33             5             \"Initiation\"  Randall Einhorn   \n",
      "5           34             6                 \"Diwali\"    Miguel Arteta   \n",
      "6           35             7        \"Branch Closing\"†     Tucker Gates   \n",
      "7           36             8            \"The Merger\"†  Ken Whittingham   \n",
      "8           37             9            \"The Convict\"    Jeffrey Blitz   \n",
      "9         3839          1011  \"A Benihana Christmas\"‡     Harold Ramis   \n",
      "10          40            12     \"Back from Vacation\"    Julian Farino   \n",
      "11          41            13     \"Traveling Salesmen\"     Greg Daniels   \n",
      "12          42            14            \"The Return\"†     Greg Daniels   \n",
      "13          43            15           \"Ben Franklin\"  Randall Einhorn   \n",
      "14          44            16       \"Phyllis' Wedding\"  Ken Whittingham   \n",
      "15          45            17        \"Business School\"      Joss Whedon   \n",
      "16          46            18              \"Cocktails\"     J. J. Abrams   \n",
      "17          47            19       \"The Negotiation\"†    Jeffrey Blitz   \n",
      "18          48            20        \"Safety Training\"     Harold Ramis   \n",
      "19          49            21         \"Product Recall\"  Randall Einhorn   \n",
      "20          50            22  \"Women's Appreciation\"†     Tucker Gates   \n",
      "21          51            23           \"Beach Games\"†     Harold Ramis   \n",
      "22        5253          2425               \"The Job\"‡       Ken Kwapis   \n",
      "\n",
      "                                         Written by Original air date [16]  \\\n",
      "0                                      Greg Daniels     September 21, 2006   \n",
      "1                   Gene Stupnitsky & Lee Eisenberg     September 28, 2006   \n",
      "2                                  Paul Lieberstein        October 5, 2006   \n",
      "3                                  Jennifer Celotta       October 12, 2006   \n",
      "4                                       B. J. Novak       October 19, 2006   \n",
      "5                                      Mindy Kaling       November 2, 2006   \n",
      "6                                     Michael Schur       November 9, 2006   \n",
      "7                                   Brent Forrester      November 16, 2006   \n",
      "8                  Ricky Gervais & Stephen Merchant      November 30, 2006   \n",
      "9                                  Jennifer Celotta      December 14, 2006   \n",
      "10                                   Justin Spitzer        January 4, 2007   \n",
      "11  Michael Schur & Lee Eisenberg & Gene Stupnitsky       January 11, 2007   \n",
      "12  Lee Eisenberg & Gene Stupnitsky & Michael Schur       January 18, 2007   \n",
      "13                                     Mindy Kaling       February 1, 2007   \n",
      "14                                Caroline Williams       February 8, 2007   \n",
      "15                                  Brent Forrester      February 15, 2007   \n",
      "16                                 Paul Lieberstein      February 22, 2007   \n",
      "17                                    Michael Schur          April 5, 2007   \n",
      "18                                      B. J. Novak         April 12, 2007   \n",
      "19                 Justin Spitzer & Brent Forrester         April 26, 2007   \n",
      "20                  Gene Stupnitsky & Lee Eisenberg            May 3, 2007   \n",
      "21                  Jennifer Celotta & Greg Daniels           May 10, 2007   \n",
      "22                 Paul Lieberstein & Michael Schur           May 17, 2007   \n",
      "\n",
      "    Prod.code [16] U.S. viewers(millions)  \n",
      "0             3001               9.11[54]  \n",
      "1             3006               7.78[55]  \n",
      "2             3002               8.89[56]  \n",
      "3             3003               8.83[57]  \n",
      "4             3005               8.46[58]  \n",
      "5             3004               8.81[59]  \n",
      "6             3007               8.05[60]  \n",
      "7             3008               8.63[61]  \n",
      "8             3010               9.07[62]  \n",
      "9         30093014               8.44[63]  \n",
      "10            3011               8.80[64]  \n",
      "11            3012              10.12[65]  \n",
      "12            3013              10.20[66]  \n",
      "13            3015              10.11[65]  \n",
      "14            3016               8.84[67]  \n",
      "15            3017               8.84[68]  \n",
      "16            3018               8.30[69]  \n",
      "17            3019               6.74[65]  \n",
      "18            3020               7.71[70]  \n",
      "19            3025               7.56[71]  \n",
      "20            3021               7.00[72]  \n",
      "21            3022               7.20[73]  \n",
      "22        30233024               7.88[65]  \n",
      "***********************************************\n",
      "4\n",
      "    No.overall  No. inseason                       Title       Directed by  \\\n",
      "0         5455            12                  \"Fun Run\"‡      Greg Daniels   \n",
      "1         5657            34  \"Dunder Mifflin Infinity\"‡        Craig Zisk   \n",
      "2         5859            56             \"Launch Party\"‡   Ken Whittingham   \n",
      "3         6061            78                    \"Money\"‡  Paul Lieberstein   \n",
      "4           62             9                  \"Local Ad\"     Jason Reitman   \n",
      "5           63            10               \"Branch Wars\"       Joss Whedon   \n",
      "6           64            11              \"Survivor Man\"         Paul Feig   \n",
      "7           65            12            \"The Deposition\"     Julian Farino   \n",
      "8           66            13              \"Dinner Party\"         Paul Feig   \n",
      "9           67            14               \"Chair Model\"     Jeffrey Blitz   \n",
      "10          68            15                 \"Night Out\"   Ken Whittingham   \n",
      "11          69            16            \"Did I Stutter?\"   Randall Einhorn   \n",
      "12          70            17                  \"Job Fair\"      Tucker Gates   \n",
      "13        7172          1819            \"Goodbye, Toby\"‡         Paul Feig   \n",
      "\n",
      "                             Written by Original air date [16]  \\\n",
      "0                          Greg Daniels     September 27, 2007   \n",
      "1                         Michael Schur        October 4, 2007   \n",
      "2                      Jennifer Celotta       October 11, 2007   \n",
      "3                      Paul Lieberstein       October 18, 2007   \n",
      "4                           B. J. Novak       October 25, 2007   \n",
      "5                          Mindy Kaling       November 1, 2007   \n",
      "6                          Steve Carell       November 8, 2007   \n",
      "7                          Lester Lewis      November 15, 2007   \n",
      "8       Gene Stupnitsky & Lee Eisenberg         April 10, 2008   \n",
      "9                           B. J. Novak         April 17, 2008   \n",
      "10                         Mindy Kaling         April 24, 2008   \n",
      "11     Brent Forrester & Justin Spitzer            May 1, 2008   \n",
      "12      Lee Eisenberg & Gene Stupnitsky            May 8, 2008   \n",
      "13  Jennifer Celotta & Paul Lieberstein           May 15, 2008   \n",
      "\n",
      "    Prod.code [16] U.S. viewers(millions)  \n",
      "0         40014002               9.70[77]  \n",
      "1         40034004               8.49[78]  \n",
      "2         40054006               8.91[79]  \n",
      "3         40074008               8.50[80]  \n",
      "4             4009               8.98[81]  \n",
      "5             4010               8.39[82]  \n",
      "6             4011               8.29[83]  \n",
      "7             4012               8.86[84]  \n",
      "8             4013               9.22[85]  \n",
      "9             4014               9.81[86]  \n",
      "10            4015               7.56[87]  \n",
      "11            4016               7.67[88]  \n",
      "12            4017               7.22[89]  \n",
      "13        40184019               8.07[90]  \n",
      "***********************************************\n",
      "5\n",
      "    No.overall  No. inseason                          Title       Directed by  \\\n",
      "0         7374            12                 \"Weight Loss\"‡         Paul Feig   \n",
      "1           75             3              \"Business Ethics\"     Jeffrey Blitz   \n",
      "2           76             4                  \"Baby Shower\"      Greg Daniels   \n",
      "3           77             5                    \"Crime Aid\"  Jennifer Celotta   \n",
      "4           78             6            \"Employee Transfer\"      David Rogers   \n",
      "5           79             7              \"Customer Survey\"  Stephen Merchant   \n",
      "6           80             8                \"Business Trip\"   Randall Einhorn   \n",
      "7           81             9                   \"Frame Toby\"     Jason Reitman   \n",
      "8           82            10                  \"The Surplus\"         Paul Feig   \n",
      "9           83            11           \"Moroccan Christmas\"         Paul Feig   \n",
      "10          84            12                     \"The Duel\"      Dean Holland   \n",
      "11          85            13          \"Prince Family Paper\"      Asaad Kelada   \n",
      "12        8687          1415               \"Stress Relief\"‡     Jeffrey Blitz   \n",
      "13          88            16      \"Lecture Circuit: Part 1\"        Ken Kwapis   \n",
      "14          89            17      \"Lecture Circuit: Part 2\"        Ken Kwapis   \n",
      "15          90            18                  \"Blood Drive\"   Randall Einhorn   \n",
      "16          91            19                \"Golden Ticket\"   Randall Einhorn   \n",
      "17          92            20                     \"New Boss\"         Paul Feig   \n",
      "18          93            21                    \"Two Weeks\"  Paul Lieberstein   \n",
      "19          94            22                   \"Dream Team\"         Paul Feig   \n",
      "20          95            23  \"Michael Scott Paper Company\"   Gene Stupnitsky   \n",
      "21          96            24            \"Heavy Competition\"   Ken Whittingham   \n",
      "22          97            25                        \"Broke\"      Steve Carell   \n",
      "23          98            26                \"Casual Friday\"   Brent Forrester   \n",
      "24          99            27                   \"Cafe Disco\"   Randall Einhorn   \n",
      "25         100            28               \"Company Picnic\"        Ken Kwapis   \n",
      "\n",
      "                               Written by Original air date [16]  \\\n",
      "0         Lee Eisenberg & Gene Stupnitsky     September 25, 2008   \n",
      "1                                Ryan Koh        October 9, 2008   \n",
      "2                             Aaron Shure       October 16, 2008   \n",
      "3                          Charlie Grandy       October 23, 2008   \n",
      "4                      Anthony Q. Farrell       October 30, 2008   \n",
      "5                            Lester Lewis       November 6, 2008   \n",
      "6                         Brent Forrester      November 13, 2008   \n",
      "7                            Mindy Kaling      November 20, 2008   \n",
      "8         Gene Stupnitsky & Lee Eisenberg       December 4, 2008   \n",
      "9                          Justin Spitzer      December 11, 2008   \n",
      "10                       Jennifer Celotta       January 15, 2009   \n",
      "11                            B. J. Novak       January 22, 2009   \n",
      "12                       Paul Lieberstein       February 1, 2009   \n",
      "13                           Mindy Kaling       February 5, 2009   \n",
      "14                           Mindy Kaling      February 12, 2009   \n",
      "15                        Brent Forrester          March 5, 2009   \n",
      "16                           Mindy Kaling         March 12, 2009   \n",
      "17        Lee Eisenberg & Gene Stupnitsky         March 19, 2009   \n",
      "18                            Aaron Shure         March 26, 2009   \n",
      "19                            B. J. Novak          April 9, 2009   \n",
      "20                         Justin Spitzer          April 9, 2009   \n",
      "21                               Ryan Koh         April 16, 2009   \n",
      "22                         Charlie Grandy         April 23, 2009   \n",
      "23                     Anthony Q. Farrell         April 30, 2009   \n",
      "24  Warren Lieberstein & Halsted Sullivan            May 7, 2009   \n",
      "25    Jennifer Celotta & Paul Lieberstein           May 14, 2009   \n",
      "\n",
      "    Prod.code [16] U.S. viewers(millions)  \n",
      "0         50015002               9.20[93]  \n",
      "1             5003               8.99[94]  \n",
      "2             5004               8.07[95]  \n",
      "3             5005               7.74[96]  \n",
      "4             5006               9.32[97]  \n",
      "5             5007               8.35[98]  \n",
      "6             5009               8.18[99]  \n",
      "7             5008              8.40[100]  \n",
      "8             5013              8.33[101]  \n",
      "9             5010              8.79[102]  \n",
      "10            5011              8.50[103]  \n",
      "11            5012              8.74[104]  \n",
      "12        50165017             22.91[105]  \n",
      "13            5014              8.39[106]  \n",
      "14            5015              8.89[107]  \n",
      "15            5018              8.63[108]  \n",
      "16            5019              7.51[109]  \n",
      "17            5020              7.95[110]  \n",
      "18            5021              8.45[111]  \n",
      "19            5022              7.20[112]  \n",
      "20            5023              7.94[112]  \n",
      "21            5024              8.24[113]  \n",
      "22            5025              7.21[114]  \n",
      "23            5026              7.31[115]  \n",
      "24            5027              7.71[116]  \n",
      "25            5028              6.72[117]  \n",
      "***********************************************\n",
      "6\n",
      "    No.overall  No. inseason                           Title  \\\n",
      "0          101             1                        \"Gossip\"   \n",
      "1          102             2                   \"The Meeting\"   \n",
      "2          103             3                 \"The Promotion\"   \n",
      "3       104105            45                      \"Niagara\"‡   \n",
      "4          106             6                         \"Mafia\"   \n",
      "5          107             7                     \"The Lover\"   \n",
      "6          108             8                      \"Koi Pond\"   \n",
      "7          109             9                   \"Double Date\"   \n",
      "8          110            10                        \"Murder\"   \n",
      "9          111            11           \"Shareholder Meeting\"   \n",
      "10         112            12                  \"Scott's Tots\"   \n",
      "11         113            13                  \"Secret Santa\"   \n",
      "12         114            14                    \"The Banker\"   \n",
      "13         115            15                         \"Sabre\"   \n",
      "14         116            16  \"The Manager and the Salesman\"   \n",
      "15      117118          1718                 \"The Delivery\"‡   \n",
      "16         119            19             \"St. Patrick's Day\"   \n",
      "17         120            20                     \"New Leads\"   \n",
      "18         121            21                    \"Happy Hour\"   \n",
      "19         122            22               \"Secretary's Day\"   \n",
      "20         123            23                 \"Body Language\"   \n",
      "21         124            24                  \"The Cover-Up\"   \n",
      "22         125            25                     \"The Chump\"   \n",
      "23         126            26                 \"Whistleblower\"   \n",
      "\n",
      "                Directed by                             Written by  \\\n",
      "0          Paul Lieberstein                       Paul Lieberstein   \n",
      "1           Randall Einhorn                            Aaron Shure   \n",
      "2          Jennifer Celotta                       Jennifer Celotta   \n",
      "3                 Paul Feig            Greg Daniels & Mindy Kaling   \n",
      "4              David Rogers                        Brent Forrester   \n",
      "5             Lee Eisenberg        Lee Eisenberg & Gene Stupnitsky   \n",
      "6             Reggie Hudlin  Warren Lieberstein & Halsted Sullivan   \n",
      "7               Seth Gordon                         Charlie Grandy   \n",
      "8              Greg Daniels                            Daniel Chun   \n",
      "9         Charles McDougall                         Justin Spitzer   \n",
      "10              B. J. Novak        Gene Stupnitsky & Lee Eisenberg   \n",
      "11          Randall Einhorn                           Mindy Kaling   \n",
      "12            Jeffrey Blitz                          Jason Kessler   \n",
      "13           John Krasinski                       Jennifer Celotta   \n",
      "14                Marc Webb                           Mindy Kaling   \n",
      "15  Seth GordonHarold Ramis              Daniel ChunCharlie Grandy   \n",
      "16          Randall Einhorn                        Jonathan Hughes   \n",
      "17          Brent Forrester                        Brent Forrester   \n",
      "18                Matt Sohn                            B. J. Novak   \n",
      "19             Steve Carell                           Mindy Kaling   \n",
      "20             Mindy Kaling                         Justin Spitzer   \n",
      "21             Rainn Wilson        Gene Stupnitsky & Lee Eisenberg   \n",
      "22          Randall Einhorn                            Aaron Shure   \n",
      "23         Paul Lieberstein  Warren Lieberstein & Halsted Sullivan   \n",
      "\n",
      "   Original air date [16]  Prod.code [16] U.S. viewers(millions)  \n",
      "0      September 17, 2009            6001              8.20[120]  \n",
      "1      September 24, 2009            6002              7.33[121]  \n",
      "2         October 1, 2009            6003              7.28[122]  \n",
      "3         October 8, 2009        60046005              9.42[123]  \n",
      "4        October 15, 2009            6006              8.10[124]  \n",
      "5        October 22, 2009            6007              8.52[125]  \n",
      "6        October 29, 2009            6009              8.20[126]  \n",
      "7        November 5, 2009            6008              7.94[127]  \n",
      "8       November 12, 2009            6010              7.76[128]  \n",
      "9       November 19, 2009            6011              7.43[129]  \n",
      "10       December 3, 2009            6013              8.10[130]  \n",
      "11      December 10, 2009            6014              8.51[131]  \n",
      "12       January 21, 2010            6012              7.29[132]  \n",
      "13       February 4, 2010            6015              7.36[133]  \n",
      "14      February 11, 2010            6016              7.40[134]  \n",
      "15          March 4, 2010        60186019              9.00[135]  \n",
      "16         March 11, 2010            6017              7.51[136]  \n",
      "17         March 18, 2010            6020              7.63[137]  \n",
      "18         March 25, 2010            6021              7.17[138]  \n",
      "19         April 22, 2010            6022              6.30[139]  \n",
      "20         April 29, 2010            6023              7.01[140]  \n",
      "21            May 6, 2010            6024              6.84[141]  \n",
      "22           May 13, 2010            6025              6.60[142]  \n",
      "23           May 20, 2010            6026              6.60[143]  \n",
      "***********************************************\n",
      "7\n",
      "    No.overall  No. inseason                                  Title  \\\n",
      "0          127             1                             \"Nepotism\"   \n",
      "1          128             2                           \"Counseling\"   \n",
      "2          129             3                          \"Andy's Play\"   \n",
      "3          130             4                               \"Sex Ed\"   \n",
      "4          131             5                            \"The Sting\"   \n",
      "5          132             6                      \"Costume Contest\"   \n",
      "6          133             7                          \"Christening\"   \n",
      "7          134             8                        \"Viewing Party\"   \n",
      "8          135             9                            \"WUPHF.com\"   \n",
      "9          136            10                                \"China\"   \n",
      "10      137138          1112                    \"Classy Christmas\"‡   \n",
      "11         139            13                            \"Ultimatum\"   \n",
      "12         140            14                          \"The Seminar\"   \n",
      "13         141            15                           \"The Search\"   \n",
      "14         142            16                                  \"PDA\"   \n",
      "15         143            17                \"Threat Level Midnight\"   \n",
      "16         144            18                          \"Todd Packer\"   \n",
      "17         145            19                          \"Garage Sale\"   \n",
      "18         146            20                         \"Training Day\"   \n",
      "19         147            21               \"Michael's Last Dundies\"   \n",
      "20         148            22                    \"Goodbye, Michael\"†   \n",
      "21         149            23                     \"The Inner Circle\"   \n",
      "22         150            24  \"Dwight K. Schrute, (Acting) Manager\"   \n",
      "23      151152          2526                    \"Search Committee\"‡   \n",
      "\n",
      "          Directed by                             Written by  \\\n",
      "0       Jeffrey Blitz                            Daniel Chun   \n",
      "1       Jeffrey Blitz                            B. J. Novak   \n",
      "2   John Stuart Scott                         Charlie Grandy   \n",
      "3    Paul Lieberstein                       Paul Lieberstein   \n",
      "4     Randall Einhorn                           Mindy Kaling   \n",
      "5        Dean Holland                         Justin Spitzer   \n",
      "6     Alex Hardcastle                             Peter Ocko   \n",
      "7     Ken Whittingham                              Jon Vitti   \n",
      "8        Danny Leiner                            Aaron Shure   \n",
      "9   Charles McDougall  Halsted Sullivan & Warren Lieberstein   \n",
      "10       Rainn Wilson                           Mindy Kaling   \n",
      "11       David Rogers                          Carrie Kemper   \n",
      "12        B. J. Novak                             Steve Hely   \n",
      "13    Michael Spiller                        Brent Forrester   \n",
      "14       Greg Daniels                         Robert Padnick   \n",
      "15       Tucker Gates                            B. J. Novak   \n",
      "16    Randall Einhorn                        Amelie Gillette   \n",
      "17       Steve Carell                              Jon Vitti   \n",
      "18   Paul Lieberstein                            Daniel Chun   \n",
      "19       Mindy Kaling                           Mindy Kaling   \n",
      "20          Paul Feig                           Greg Daniels   \n",
      "21          Matt Sohn                         Charlie Grandy   \n",
      "22        Troy Miller                         Justin Spitzer   \n",
      "23      Jeffrey Blitz                       Paul Lieberstein   \n",
      "\n",
      "   Original air date [16]  Prod.code [16] U.S. viewers(millions)  \n",
      "0      September 23, 2010            7001              8.40[148]  \n",
      "1      September 30, 2010            7002              7.36[149]  \n",
      "2         October 7, 2010            7003              6.95[150]  \n",
      "3        October 14, 2010            7004              7.36[151]  \n",
      "4        October 21, 2010            7005              6.87[152]  \n",
      "5        October 28, 2010            7006              8.07[153]  \n",
      "6        November 4, 2010            7007              7.65[154]  \n",
      "7       November 11, 2010            7008              7.15[155]  \n",
      "8       November 18, 2010            7009              7.28[156]  \n",
      "9        December 2, 2010            7010              7.31[157]  \n",
      "10       December 9, 2010        70117012              7.18[158]  \n",
      "11       January 20, 2011            7013              8.26[159]  \n",
      "12       January 27, 2011            7014              7.93[160]  \n",
      "13       February 3, 2011            7015              7.29[161]  \n",
      "14      February 10, 2011            7017              6.90[162]  \n",
      "15      February 17, 2011            7016              6.41[163]  \n",
      "16      February 24, 2011            7018              6.12[164]  \n",
      "17         March 24, 2011            7019              7.07[165]  \n",
      "18         April 14, 2011            7020              7.87[166]  \n",
      "19         April 21, 2011            7021              6.85[167]  \n",
      "20         April 28, 2011            7022              8.42[168]  \n",
      "21            May 5, 2011            7023              6.90[169]  \n",
      "22           May 12, 2011            7024              6.45[170]  \n",
      "23           May 19, 2011        70257026              7.29[171]  \n",
      "***********************************************\n",
      "8\n",
      "    No.overall  No. inseason                          Title  \\\n",
      "0          153             1                     \"The List\"   \n",
      "1          154             2                \"The Incentive\"   \n",
      "2          155             3                        \"Lotto\"   \n",
      "3          156             4                 \"Garden Party\"   \n",
      "4          157             5                      \"Spooked\"   \n",
      "5          158             6                     \"Doomsday\"   \n",
      "6          159             7            \"Pam's Replacement\"   \n",
      "7          160             8                   \"Gettysburg\"   \n",
      "8          161             9              \"Mrs. California\"   \n",
      "9          162            10             \"Christmas Wishes\"   \n",
      "10         163            11                       \"Trivia\"   \n",
      "11         164            12                   \"Pool Party\"   \n",
      "12         165            13                    \"Jury Duty\"   \n",
      "13         166            14              \"Special Project\"   \n",
      "14         167            15                  \"Tallahassee\"   \n",
      "15         168            16                  \"After Hours\"   \n",
      "16         169            17               \"Test the Store\"   \n",
      "17         170            18          \"Last Day in Florida\"   \n",
      "18         171            19                 \"Get the Girl\"   \n",
      "19         172            20                \"Welcome Party\"   \n",
      "20         173            21                   \"Angry Andy\"   \n",
      "21         174            22                   \"Fundraiser\"   \n",
      "22         175            23                     \"Turf War\"   \n",
      "23         176            24  \"Free Family Portrait Studio\"   \n",
      "\n",
      "          Directed by                             Written by  \\\n",
      "0         B. J. Novak                            B. J. Novak   \n",
      "1   Charles McDougall                       Paul Lieberstein   \n",
      "2      John Krasinski                         Charlie Grandy   \n",
      "3        David Rogers                         Justin Spitzer   \n",
      "4     Randall Einhorn                          Carrie Kemper   \n",
      "5         Troy Miller                            Daniel Chun   \n",
      "6           Matt Sohn                      Allison Silverman   \n",
      "7       Jeffrey Blitz                         Robert Padnick   \n",
      "8      Charlie Grandy                            Dan Greaney   \n",
      "9            Ed Helms                           Mindy Kaling   \n",
      "10        B. J. Novak                             Steve Hely   \n",
      "11  Charles McDougall                         Owen Ellickson   \n",
      "12         Eric Appel                            Aaron Shure   \n",
      "13       David Rogers                        Amelie Gillette   \n",
      "14          Matt Sohn                            Daniel Chun   \n",
      "15  Brian Baumgartner  Halsted Sullivan & Warren Lieberstein   \n",
      "16    Brent Forrester                           Mindy Kaling   \n",
      "17          Matt Sohn                         Robert Padnick   \n",
      "18       Rainn Wilson                         Charlie Grandy   \n",
      "19           Ed Helms                             Steve Hely   \n",
      "20     Claire Scanlon                         Justin Spitzer   \n",
      "21       David Rogers                         Owen Ellickson   \n",
      "22        Daniel Chun  Warren Lieberstein & Halsted Sullivan   \n",
      "23        B. J. Novak                            B. J. Novak   \n",
      "\n",
      "   Original air date [16]  Prod.code [16] U.S. viewers(millions)  \n",
      "0      September 22, 2011            8002              7.64[173]  \n",
      "1      September 29, 2011            8001              6.70[174]  \n",
      "2         October 6, 2011            8005              5.82[175]  \n",
      "3        October 13, 2011            8004              6.08[176]  \n",
      "4        October 27, 2011            8006              5.53[177]  \n",
      "5        November 3, 2011            8003              6.15[178]  \n",
      "6       November 10, 2011            8007              5.96[179]  \n",
      "7       November 17, 2011            8008              5.50[180]  \n",
      "8        December 1, 2011            8009              5.71[181]  \n",
      "9        December 8, 2011            8010              5.79[182]  \n",
      "10       January 12, 2012            8011              5.90[183]  \n",
      "11       January 19, 2012            8012              6.02[184]  \n",
      "12       February 2, 2012            8013              5.31[185]  \n",
      "13       February 9, 2012            8014              5.19[186]  \n",
      "14      February 16, 2012            8015              4.38[187]  \n",
      "15      February 23, 2012            8016              5.02[188]  \n",
      "16          March 1, 2012            8017              4.95[189]  \n",
      "17          March 8, 2012            8018              4.89[190]  \n",
      "18         March 15, 2012            8019              4.87[191]  \n",
      "19         April 12, 2012            8020              4.39[192]  \n",
      "20         April 19, 2012            8021              4.35[193]  \n",
      "21         April 26, 2012            8022              4.17[194]  \n",
      "22            May 3, 2012            8023              4.44[195]  \n",
      "23           May 10, 2012            8024              4.49[196]  \n",
      "***********************************************\n",
      "9\n",
      "    No.overall  No. inseason                Title        Directed by  \\\n",
      "0          177             1           \"New Guys\"       Greg Daniels   \n",
      "1          178             2      \"Roy's Wedding\"          Matt Sohn   \n",
      "2          179             3    \"Andy's Ancestry\"       David Rogers   \n",
      "3          180             4           \"Work Bus\"     Bryan Cranston   \n",
      "4          181             5  \"Here Comes Treble\"     Claire Scanlon   \n",
      "5          182             6           \"The Boat\"     John Krasinski   \n",
      "6          183             7          \"The Whale\"     Rodman Flender   \n",
      "7          184             8         \"The Target\"    Brent Forrester   \n",
      "8          185             9   \"Dwight Christmas\"  Charles McDougall   \n",
      "9          186            10               \"Lice\"     Rodman Flender   \n",
      "10         187            11     \"Suit Warehouse\"          Matt Sohn   \n",
      "11         188            12   \"Customer Loyalty\"      Kelly Cantley   \n",
      "12         189            13    \"Junior Salesman\"       David Rogers   \n",
      "13         190            14          \"Vandalism\"           Lee Kirk   \n",
      "14         191            15   \"Couples Discount\"        Troy Miller   \n",
      "15         192            16         \"Moving On\"‡        Jon Favreau   \n",
      "16         193            17           \"The Farm\"   Paul Lieberstein   \n",
      "17         194            18             \"Promos\"   Jennifer Celotta   \n",
      "18         195            19      \"Stairmageddon\"          Matt Sohn   \n",
      "19         196            20     \"Paper Airplane\"       Jesse Peretz   \n",
      "20         197            21  \"Livin' the Dream\"‡      Jeffrey Blitz   \n",
      "21      198199          2223          \"A.A.R.M.\"‡       David Rogers   \n",
      "22      200201          2425            \"Finale\"*         Ken Kwapis   \n",
      "\n",
      "                               Written by Original air date [16]  \\\n",
      "0                            Greg Daniels     September 20, 2012   \n",
      "1                       Allison Silverman     September 27, 2012   \n",
      "2            Jonathan Green & Gabe Miller        October 4, 2012   \n",
      "3                         Brent Forrester       October 18, 2012   \n",
      "4                          Owen Ellickson       October 25, 2012   \n",
      "5                            Dan Sterling       November 8, 2012   \n",
      "6                           Carrie Kemper      November 15, 2012   \n",
      "7                           Graham Wagner      November 29, 2012   \n",
      "8                          Robert Padnick       December 6, 2012   \n",
      "9                    Niki Schwartz-Wright       January 10, 2013   \n",
      "10                            Dan Greaney       January 17, 2013   \n",
      "11           Jonathan Green & Gabe Miller       January 24, 2013   \n",
      "12                          Carrie Kemper       January 31, 2013   \n",
      "13                         Owen Ellickson       January 31, 2013   \n",
      "14                      Allison Silverman       February 7, 2013   \n",
      "15                          Graham Wagner      February 14, 2013   \n",
      "16                       Paul Lieberstein         March 14, 2013   \n",
      "17                          Tim McAuliffe          April 4, 2013   \n",
      "18                           Dan Sterling         April 11, 2013   \n",
      "19  Halsted Sullivan & Warren Lieberstein         April 25, 2013   \n",
      "20                   Niki Schwartz-Wright            May 2, 2013   \n",
      "21                        Brent Forrester            May 9, 2013   \n",
      "22                           Greg Daniels           May 16, 2013   \n",
      "\n",
      "    Prod.code [16] U.S. viewers(millions)  \n",
      "0             9001              4.28[200]  \n",
      "1             9002              4.13[201]  \n",
      "2             9003              4.14[202]  \n",
      "3             9004              4.28[203]  \n",
      "4             9006              4.00[204]  \n",
      "5             9007              4.83[205]  \n",
      "6             9008              4.16[206]  \n",
      "7             9009              3.88[207]  \n",
      "8             9010              4.16[208]  \n",
      "9             9011              4.54[209]  \n",
      "10            9012              4.15[210]  \n",
      "11            9013              4.19[211]  \n",
      "12            9014              4.45[212]  \n",
      "13            9015              3.97[212]  \n",
      "14            9016              4.15[213]  \n",
      "15            9017              4.06[214]  \n",
      "16            9005              3.54[215]  \n",
      "17            9018              3.44[216]  \n",
      "18            9019              3.83[217]  \n",
      "19            9020              3.25[218]  \n",
      "20            9021              3.51[219]  \n",
      "21        90229023              4.56[220]  \n",
      "22        90249025              5.69[221]  \n",
      "***********************************************\n",
      "10\n",
      "                                                  No.  \\\n",
      "0                                                   1   \n",
      "1   The accountants inform Jan that the books don'...   \n",
      "2                                                   2   \n",
      "3   The accountants question Phyllis and she makes...   \n",
      "4                                                   3   \n",
      "5   Meredith is the next employee to be questioned...   \n",
      "6                                                   4   \n",
      "7   The accountants talk to Stanley. Stanley think...   \n",
      "8                                                   5   \n",
      "9   Kevin thinks Angela has a crush on Roy, who en...   \n",
      "10                                                  6   \n",
      "11  Kevin types a memo for the thief to come forwa...   \n",
      "12                                                  7   \n",
      "13  With new developments, the accountants start t...   \n",
      "14                                                  8   \n",
      "15  The accountants wait for Michael to leave his ...   \n",
      "16                                                  9   \n",
      "17  The accountants check Michael's office for evi...   \n",
      "18                                                 10   \n",
      "19  Dwight confronts Angela about her decision to ...   \n",
      "\n",
      "                                                Title  \\\n",
      "0                           \"The Books Don't Balance\"   \n",
      "1   The accountants inform Jan that the books don'...   \n",
      "2                                           \"Phyllis\"   \n",
      "3   The accountants question Phyllis and she makes...   \n",
      "4                                          \"Meredith\"   \n",
      "5   Meredith is the next employee to be questioned...   \n",
      "6                                           \"Stanley\"   \n",
      "7   The accountants talk to Stanley. Stanley think...   \n",
      "8                          \"Someone in the Warehouse\"   \n",
      "9   Kevin thinks Angela has a crush on Roy, who en...   \n",
      "10                                         \"The Memo\"   \n",
      "11  Kevin types a memo for the thief to come forwa...   \n",
      "12                         \"Things Are Getting Tense\"   \n",
      "13  With new developments, the accountants start t...   \n",
      "14                                      \"You're Mean\"   \n",
      "15  The accountants wait for Michael to leave his ...   \n",
      "16                                 \"Michael's Office\"   \n",
      "17  The accountants check Michael's office for evi...   \n",
      "18                          \"The Best Day of My Life\"   \n",
      "19  Dwight confronts Angela about her decision to ...   \n",
      "\n",
      "                                          Directed by  \\\n",
      "0                                     Randall Einhorn   \n",
      "1   The accountants inform Jan that the books don'...   \n",
      "2                                     Randall Einhorn   \n",
      "3   The accountants question Phyllis and she makes...   \n",
      "4                                     Randall Einhorn   \n",
      "5   Meredith is the next employee to be questioned...   \n",
      "6                                     Randall Einhorn   \n",
      "7   The accountants talk to Stanley. Stanley think...   \n",
      "8                                     Randall Einhorn   \n",
      "9   Kevin thinks Angela has a crush on Roy, who en...   \n",
      "10                                    Randall Einhorn   \n",
      "11  Kevin types a memo for the thief to come forwa...   \n",
      "12                                    Randall Einhorn   \n",
      "13  With new developments, the accountants start t...   \n",
      "14                                    Randall Einhorn   \n",
      "15  The accountants wait for Michael to leave his ...   \n",
      "16                                    Randall Einhorn   \n",
      "17  The accountants check Michael's office for evi...   \n",
      "18                                    Randall Einhorn   \n",
      "19  Dwight confronts Angela about her decision to ...   \n",
      "\n",
      "                                           Written by  \\\n",
      "0                    Michael Schur & Paul Lieberstein   \n",
      "1   The accountants inform Jan that the books don'...   \n",
      "2                    Michael Schur & Paul Lieberstein   \n",
      "3   The accountants question Phyllis and she makes...   \n",
      "4                    Michael Schur & Paul Lieberstein   \n",
      "5   Meredith is the next employee to be questioned...   \n",
      "6                    Michael Schur & Paul Lieberstein   \n",
      "7   The accountants talk to Stanley. Stanley think...   \n",
      "8                    Michael Schur & Paul Lieberstein   \n",
      "9   Kevin thinks Angela has a crush on Roy, who en...   \n",
      "10                   Michael Schur & Paul Lieberstein   \n",
      "11  Kevin types a memo for the thief to come forwa...   \n",
      "12                   Michael Schur & Paul Lieberstein   \n",
      "13  With new developments, the accountants start t...   \n",
      "14                   Michael Schur & Paul Lieberstein   \n",
      "15  The accountants wait for Michael to leave his ...   \n",
      "16                   Michael Schur & Paul Lieberstein   \n",
      "17  The accountants check Michael's office for evi...   \n",
      "18                   Michael Schur & Paul Lieberstein   \n",
      "19  Dwight confronts Angela about her decision to ...   \n",
      "\n",
      "                                Original release date  \\\n",
      "0                                       July 13, 2006   \n",
      "1   The accountants inform Jan that the books don'...   \n",
      "2                                       July 13, 2006   \n",
      "3   The accountants question Phyllis and she makes...   \n",
      "4                                       July 20, 2006   \n",
      "5   Meredith is the next employee to be questioned...   \n",
      "6                                       July 27, 2006   \n",
      "7   The accountants talk to Stanley. Stanley think...   \n",
      "8                                      August 3, 2006   \n",
      "9   Kevin thinks Angela has a crush on Roy, who en...   \n",
      "10                                    August 10, 2006   \n",
      "11  Kevin types a memo for the thief to come forwa...   \n",
      "12                                    August 17, 2006   \n",
      "13  With new developments, the accountants start t...   \n",
      "14                                    August 24, 2006   \n",
      "15  The accountants wait for Michael to leave his ...   \n",
      "16                                    August 31, 2006   \n",
      "17  The accountants check Michael's office for evi...   \n",
      "18                                  September 7, 2006   \n",
      "19  Dwight confronts Angela about her decision to ...   \n",
      "\n",
      "                                           Unnamed: 5  \n",
      "0                                                 NaN  \n",
      "1   The accountants inform Jan that the books don'...  \n",
      "2                                                 NaN  \n",
      "3   The accountants question Phyllis and she makes...  \n",
      "4                                                 NaN  \n",
      "5   Meredith is the next employee to be questioned...  \n",
      "6                                                 NaN  \n",
      "7   The accountants talk to Stanley. Stanley think...  \n",
      "8                                                 NaN  \n",
      "9   Kevin thinks Angela has a crush on Roy, who en...  \n",
      "10                                                NaN  \n",
      "11  Kevin types a memo for the thief to come forwa...  \n",
      "12                                                NaN  \n",
      "13  With new developments, the accountants start t...  \n",
      "14                                                NaN  \n",
      "15  The accountants wait for Michael to leave his ...  \n",
      "16                                                NaN  \n",
      "17  The accountants check Michael's office for evi...  \n",
      "18                                                NaN  \n",
      "19  Dwight confronts Angela about her decision to ...  \n",
      "***********************************************\n",
      "11\n",
      "   No.                  Title      Directed by       Written by  \\\n",
      "0    1        \"Money Trouble\"  Brent Forrester  Anthony Farrell   \n",
      "1    2       \"Malone's Cones\"  Brent Forrester         Ryan Koh   \n",
      "2    3        \"Exposed Wires\"  Brent Forrester         Ryan Koh   \n",
      "3    4  \"Taste the Ice Cream\"  Brent Forrester  Anthony Farrell   \n",
      "\n",
      "  Original release date  \n",
      "0         July 10, 2008  \n",
      "1         July 17, 2008  \n",
      "2         July 24, 2008  \n",
      "3         July 31, 2008  \n",
      "***********************************************\n",
      "12\n",
      "   No.                Title                      Directed by  \\\n",
      "0    1           \"The Call\"  Lee Eisenberg & Gene Stupnitsky   \n",
      "1    2  \"The Investigation\"  Lee Eisenberg & Gene Stupnitsky   \n",
      "2    3         \"The Search\"  Lee Eisenberg & Gene Stupnitsky   \n",
      "3    4    \"The Explanation\"  Lee Eisenberg & Gene Stupnitsky   \n",
      "\n",
      "                        Written by Original release date  \n",
      "0  Nate Federman & Jonathan Hughes     November 20, 2008  \n",
      "1  Nate Federman & Jonathan Hughes     November 26, 2008  \n",
      "2  Nate Federman & Jonathan Hughes      December 4, 2008  \n",
      "3  Nate Federman & Jonathan Hughes     December 11, 2008  \n",
      "***********************************************\n",
      "13\n",
      "   No.      Title  Directed by       Written by Original release date\n",
      "0    1    \"Oscar\"  B. J. Novak    Nate Federman           May 7, 2009\n",
      "1    2     \"Andy\"  B. J. Novak    Nate Federman          May 14, 2009\n",
      "2    3    \"Kelly\"  B. J. Novak  Jonathan Hughes          May 21, 2009\n",
      "3    4  \"Pay Day\"  B. J. Novak  Jonathan Hughes          May 28, 2009\n",
      "***********************************************\n",
      "14\n",
      "   No.                   Title   Directed by                       Written by  \\\n",
      "0    1  \"Creative Differences\"  Mindy Kaling  Nate Federman & Jonathan Hughes   \n",
      "1    2       \"The Replacement\"  Mindy Kaling  Nate Federman & Jonathan Hughes   \n",
      "2    3       \"The Music Video\"  Mindy Kaling  Nate Federman & Jonathan Hughes   \n",
      "\n",
      "  Original release date  \n",
      "0      October 29, 2009  \n",
      "1      October 29, 2009  \n",
      "2      October 29, 2009  \n",
      "***********************************************\n",
      "15\n",
      "   No.             Title    Directed by                       Written by  \\\n",
      "0    1       \"The Pupil\"  Kelly Cantley  Nate Federman & Jonathan Hughes   \n",
      "1    2  \"Reimbursements\"  Kelly Cantley  Nate Federman & Jonathan Hughes   \n",
      "2    3       \"Lunchtime\"  Kelly Cantley  Nate Federman & Jonathan Hughes   \n",
      "3    4           \"BFFs?\"  Kelly Cantley  Nate Federman & Jonathan Hughes   \n",
      "\n",
      "  Original release date  \n",
      "0         March 4, 2010  \n",
      "1         March 4, 2010  \n",
      "2         March 4, 2010  \n",
      "3         March 4, 2010  \n",
      "***********************************************\n",
      "16\n",
      "   No.                      Title   Directed by  \\\n",
      "0    1                \"Moving On\"  Mindy Kaling   \n",
      "1    2  \"Lights. Camera. Action!\"  Mindy Kaling   \n",
      "2    3        \"The Final Product\"  Mindy Kaling   \n",
      "\n",
      "                                   Written by Original release date  \n",
      "0  Kelly Hannon & Jonathan Hughes & Mary Wall      October 28, 2010  \n",
      "1  Kelly Hannon & Jonathan Hughes & Mary Wall      October 28, 2010  \n",
      "2  Kelly Hannon & Jonathan Hughes & Mary Wall      October 28, 2010  \n",
      "***********************************************\n",
      "17\n",
      "   No.              Title     Directed by       Written by  \\\n",
      "0    1   \"Gabe's Podcast\"  Charlie Grandy     Kelly Hannon   \n",
      "1    2  \"The First Entry\"  Charlie Grandy        Mary Wall   \n",
      "2    3        \"The Debut\"  Charlie Grandy  Jonathan Hughes   \n",
      "\n",
      "  Original release date  \n",
      "0      January 20, 2011  \n",
      "1      January 20, 2011  \n",
      "2      January 20, 2011  \n",
      "***********************************************\n",
      "18\n",
      "   No.                            Title   Directed by  \\\n",
      "0    1  \"The Story of Subtle Sexuality\"  Mindy Kaling   \n",
      "1    2             \"The Girl Next Door\"  Mindy Kaling   \n",
      "\n",
      "                                   Written by Original release date  \n",
      "0  Kelly Hannon & Jonathan Hughes & Mary Wall           May 4, 2011  \n",
      "1  Kelly Hannon & Jonathan Hughes & Mary Wall           May 4, 2011  \n",
      "***********************************************\n",
      "19\n",
      "  .mw-parser-output .navbar{display:inline;font-size:88%;font-weight:normal}.mw-parser-output .navbar-collapse{float:left;text-align:left}.mw-parser-output .navbar-boxtext{word-spacing:0}.mw-parser-output .navbar ul{display:inline-block;white-space:nowrap;line-height:inherit}.mw-parser-output .navbar-brackets::before{margin-right:-0.125em;content:\"[ \"}.mw-parser-output .navbar-brackets::after{margin-left:-0.125em;content:\" ]\"}.mw-parser-output .navbar li{word-spacing:-0.125em}.mw-parser-output .navbar a>span,.mw-parser-output .navbar a>abbr{text-decoration:inherit}.mw-parser-output .navbar-mini abbr{font-variant:small-caps;border-bottom:none;text-decoration:none;cursor:inherit}.mw-parser-output .navbar-ct-full{font-size:114%;margin:0 7em}.mw-parser-output .navbar-ct-mini{font-size:114%;margin:0 4em}vteThe Office (American series) cast  \\\n",
      "0                                           Episodes                                                                                                                                                                                                                                                                                                                                                                                                                                                                                                                                                                                                                                                                                                                                                                                                                             \n",
      "1                                            Seasons                                                                                                                                                                                                                                                                                                                                                                                                                                                                                                                                                                                                                                                                                                                                                                                                                             \n",
      "2                                         Characters                                                                                                                                                                                                                                                                                                                                                                                                                                                                                                                                                                                                                                                                                                                                                                                                                             \n",
      "3                                            Primary                                                                                                                                                                                                                                                                                                                                                                                                                                                                                                                                                                                                                                                                                                                                                                                                                             \n",
      "4          Andy Bernard Stanley Hudson Phyllis Vance                                                                                                                                                                                                                                                                                                                                                                                                                                                                                                                                                                                                                                                                                                                                                                                                                             \n",
      "5          Angela Martin Oscar Martinez Kevin Malone                                                                                                                                                                                                                                                                                                                                                                                                                                                                                                                                                                                                                                                                                                                                                                                                                             \n",
      "6                      Meredith Palmer Creed Bratton                                                                                                                                                                                                                                                                                                                                                                                                                                                                                                                                                                                                                                                                                                                                                                                                                             \n",
      "7  Ryan Howard Kelly Kapoor Toby Flenderson Darry...                                                                                                                                                                                                                                                                                                                                                                                                                                                                                                                                                                                                                                                                                                                                                                                                                             \n",
      "8                                          Secondary                                                                                                                                                                                                                                                                                                                                                                                                                                                                                                                                                                                                                                                                                                                                                                                                                             \n",
      "9                                              Other                                                                                                                                                                                                                                                                                                                                                                                                                                                                                                                                                                                                                                                                                                                                                                                                                             \n",
      "\n",
      "  .mw-parser-output .navbar{display:inline;font-size:88%;font-weight:normal}.mw-parser-output .navbar-collapse{float:left;text-align:left}.mw-parser-output .navbar-boxtext{word-spacing:0}.mw-parser-output .navbar ul{display:inline-block;white-space:nowrap;line-height:inherit}.mw-parser-output .navbar-brackets::before{margin-right:-0.125em;content:\"[ \"}.mw-parser-output .navbar-brackets::after{margin-left:-0.125em;content:\" ]\"}.mw-parser-output .navbar li{word-spacing:-0.125em}.mw-parser-output .navbar a>span,.mw-parser-output .navbar a>abbr{text-decoration:inherit}.mw-parser-output .navbar-mini abbr{font-variant:small-caps;border-bottom:none;text-decoration:none;cursor:inherit}.mw-parser-output .navbar-ct-full{font-size:114%;margin:0 7em}.mw-parser-output .navbar-ct-mini{font-size:114%;margin:0 4em}vteThe Office (American series) cast.1  \n",
      "0                          Seasons 1 2 3 4 5 6 7 8 9                                                                                                                                                                                                                                                                                                                                                                                                                                                                                                                                                                                                                                                                                                                                                                                                                              \n",
      "1                                  1 2 3 4 5 6 7 8 9                                                                                                                                                                                                                                                                                                                                                                                                                                                                                                                                                                                                                                                                                                                                                                                                                              \n",
      "2  Primary Michael Scott Dwight Schrute Jim Halpe...                                                                                                                                                                                                                                                                                                                                                                                                                                                                                                                                                                                                                                                                                                                                                                                                                              \n",
      "3  Michael Scott Dwight Schrute Jim Halpert Pam B...                                                                                                                                                                                                                                                                                                                                                                                                                                                                                                                                                                                                                                                                                                                                                                                                                              \n",
      "4          Andy Bernard Stanley Hudson Phyllis Vance                                                                                                                                                                                                                                                                                                                                                                                                                                                                                                                                                                                                                                                                                                                                                                                                                              \n",
      "5          Angela Martin Oscar Martinez Kevin Malone                                                                                                                                                                                                                                                                                                                                                                                                                                                                                                                                                                                                                                                                                                                                                                                                                              \n",
      "6                      Meredith Palmer Creed Bratton                                                                                                                                                                                                                                                                                                                                                                                                                                                                                                                                                                                                                                                                                                                                                                                                                              \n",
      "7  Ryan Howard Kelly Kapoor Toby Flenderson Darry...                                                                                                                                                                                                                                                                                                                                                                                                                                                                                                                                                                                                                                                                                                                                                                                                                              \n",
      "8  Roy Anderson Jan Levinson Erin Hannon Robert C...                                                                                                                                                                                                                                                                                                                                                                                                                                                                                                                                                                                                                                                                                                                                                                                                                              \n",
      "9  Dunder Mifflin Awards Worldwide editions Offic...                                                                                                                                                                                                                                                                                                                                                                                                                                                                                                                                                                                                                                                                                                                                                                                                                              \n",
      "***********************************************\n",
      "20\n",
      "         0                  1\n",
      "0  Seasons  1 2 3 4 5 6 7 8 9\n",
      "***********************************************\n",
      "21\n",
      "                                                   0  \\\n",
      "0                                            Primary   \n",
      "1          Andy Bernard Stanley Hudson Phyllis Vance   \n",
      "2          Angela Martin Oscar Martinez Kevin Malone   \n",
      "3                      Meredith Palmer Creed Bratton   \n",
      "4  Ryan Howard Kelly Kapoor Toby Flenderson Darry...   \n",
      "5                                          Secondary   \n",
      "\n",
      "                                                   1  \n",
      "0  Michael Scott Dwight Schrute Jim Halpert Pam B...  \n",
      "1          Andy Bernard Stanley Hudson Phyllis Vance  \n",
      "2          Angela Martin Oscar Martinez Kevin Malone  \n",
      "3                      Meredith Palmer Creed Bratton  \n",
      "4  Ryan Howard Kelly Kapoor Toby Flenderson Darry...  \n",
      "5  Roy Anderson Jan Levinson Erin Hannon Robert C...  \n",
      "***********************************************\n",
      "22\n",
      "                                           0  \\\n",
      "0  Andy Bernard Stanley Hudson Phyllis Vance   \n",
      "\n",
      "                                           1  \n",
      "0  Andy Bernard Stanley Hudson Phyllis Vance  \n",
      "***********************************************\n",
      "23\n",
      "                                           0  \\\n",
      "0  Angela Martin Oscar Martinez Kevin Malone   \n",
      "\n",
      "                                           1  \n",
      "0  Angela Martin Oscar Martinez Kevin Malone  \n",
      "***********************************************\n",
      "24\n",
      "                               0                              1\n",
      "0  Meredith Palmer Creed Bratton  Meredith Palmer Creed Bratton\n",
      "***********************************************\n",
      "25\n",
      "                                                   0  \\\n",
      "0  Ryan Howard Kelly Kapoor Toby Flenderson Darry...   \n",
      "\n",
      "                                                   1  \n",
      "0  Ryan Howard Kelly Kapoor Toby Flenderson Darry...  \n",
      "***********************************************\n",
      "26\n",
      "  vteThe Office (American) episodes  \\\n",
      "0                          Season 1   \n",
      "1                          Season 2   \n",
      "2                          Season 3   \n",
      "3                          Season 4   \n",
      "4                          Season 5   \n",
      "5                          Season 6   \n",
      "6                          Season 7   \n",
      "7                          Season 8   \n",
      "8                          Season 9   \n",
      "9                         Webisodes   \n",
      "\n",
      "                 vteThe Office (American) episodes.1  \n",
      "0  \"Pilot\" \"Diversity Day\" \"Health Care\" \"The All...  \n",
      "1  \"The Dundies\" \"Sexual Harassment\" \"Office Olym...  \n",
      "2  \"Gay Witch Hunt\" \"The Convention\" \"The Coup\" \"...  \n",
      "3  \"Fun Run\" \"Dunder Mifflin Infinity\" \"Launch Pa...  \n",
      "4  \"Weight Loss\" \"Employee Transfer\" \"Customer Su...  \n",
      "5  \"Gossip\" \"The Meeting\" \"The Promotion\" \"Niagar...  \n",
      "6  \"Nepotism\" \"Counseling\" \"Andy's Play\" \"Sex Ed\"...  \n",
      "7  \"The List\" \"The Incentive\" \"Lotto\" \"Garden Par...  \n",
      "8  \"New Guys\" \"Roy's Wedding\" \"Andy's Ancestry\" \"...  \n",
      "9  The Accountants Kevin's Loan The Outburst Blac...  \n"
     ]
    }
   ],
   "source": [
    "import pandas as pd\n",
    "import plotly.express as px\n",
    "\n",
    "scrap = pd.read_html('https://en.wikipedia.org/wiki/List_of_The_Office_(American_TV_series)_episodes')\n",
    "\n",
    "# print(scrap)\n",
    "\n",
    "for idx, table in enumerate(scraper):\n",
    "    print('***********************************************')\n",
    "    print(idx)\n",
    "    print(table)\n"
   ]
  },
  {
   "cell_type": "code",
   "execution_count": 16,
   "id": "847e95a0",
   "metadata": {},
   "outputs": [],
   "source": [
    "season3 = scrap[3]"
   ]
  },
  {
   "cell_type": "code",
   "execution_count": 17,
   "id": "5d249e48",
   "metadata": {
    "scrolled": true
   },
   "outputs": [
    {
     "data": {
      "text/html": [
       "<div>\n",
       "<style scoped>\n",
       "    .dataframe tbody tr th:only-of-type {\n",
       "        vertical-align: middle;\n",
       "    }\n",
       "\n",
       "    .dataframe tbody tr th {\n",
       "        vertical-align: top;\n",
       "    }\n",
       "\n",
       "    .dataframe thead th {\n",
       "        text-align: right;\n",
       "    }\n",
       "</style>\n",
       "<table border=\"1\" class=\"dataframe\">\n",
       "  <thead>\n",
       "    <tr style=\"text-align: right;\">\n",
       "      <th></th>\n",
       "      <th>No.overall</th>\n",
       "      <th>No. inseason</th>\n",
       "      <th>Title</th>\n",
       "      <th>Directed by</th>\n",
       "      <th>Written by</th>\n",
       "      <th>Original air date [16]</th>\n",
       "      <th>Prod.code [16]</th>\n",
       "      <th>U.S. viewers(millions)</th>\n",
       "    </tr>\n",
       "  </thead>\n",
       "  <tbody>\n",
       "    <tr>\n",
       "      <th>0</th>\n",
       "      <td>29</td>\n",
       "      <td>1</td>\n",
       "      <td>\"Gay Witch Hunt\"</td>\n",
       "      <td>Ken Kwapis</td>\n",
       "      <td>Greg Daniels</td>\n",
       "      <td>September 21, 2006</td>\n",
       "      <td>3001</td>\n",
       "      <td>9.11[54]</td>\n",
       "    </tr>\n",
       "    <tr>\n",
       "      <th>1</th>\n",
       "      <td>30</td>\n",
       "      <td>2</td>\n",
       "      <td>\"The Convention\"</td>\n",
       "      <td>Ken Whittingham</td>\n",
       "      <td>Gene Stupnitsky &amp; Lee Eisenberg</td>\n",
       "      <td>September 28, 2006</td>\n",
       "      <td>3006</td>\n",
       "      <td>7.78[55]</td>\n",
       "    </tr>\n",
       "    <tr>\n",
       "      <th>2</th>\n",
       "      <td>31</td>\n",
       "      <td>3</td>\n",
       "      <td>\"The Coup\"</td>\n",
       "      <td>Greg Daniels</td>\n",
       "      <td>Paul Lieberstein</td>\n",
       "      <td>October 5, 2006</td>\n",
       "      <td>3002</td>\n",
       "      <td>8.89[56]</td>\n",
       "    </tr>\n",
       "    <tr>\n",
       "      <th>3</th>\n",
       "      <td>32</td>\n",
       "      <td>4</td>\n",
       "      <td>\"Grief Counseling\"</td>\n",
       "      <td>Roger Nygard</td>\n",
       "      <td>Jennifer Celotta</td>\n",
       "      <td>October 12, 2006</td>\n",
       "      <td>3003</td>\n",
       "      <td>8.83[57]</td>\n",
       "    </tr>\n",
       "    <tr>\n",
       "      <th>4</th>\n",
       "      <td>33</td>\n",
       "      <td>5</td>\n",
       "      <td>\"Initiation\"</td>\n",
       "      <td>Randall Einhorn</td>\n",
       "      <td>B. J. Novak</td>\n",
       "      <td>October 19, 2006</td>\n",
       "      <td>3005</td>\n",
       "      <td>8.46[58]</td>\n",
       "    </tr>\n",
       "  </tbody>\n",
       "</table>\n",
       "</div>"
      ],
      "text/plain": [
       "   No.overall  No. inseason               Title      Directed by  \\\n",
       "0          29             1    \"Gay Witch Hunt\"       Ken Kwapis   \n",
       "1          30             2    \"The Convention\"  Ken Whittingham   \n",
       "2          31             3          \"The Coup\"     Greg Daniels   \n",
       "3          32             4  \"Grief Counseling\"     Roger Nygard   \n",
       "4          33             5        \"Initiation\"  Randall Einhorn   \n",
       "\n",
       "                        Written by Original air date [16]  Prod.code [16]  \\\n",
       "0                     Greg Daniels     September 21, 2006            3001   \n",
       "1  Gene Stupnitsky & Lee Eisenberg     September 28, 2006            3006   \n",
       "2                 Paul Lieberstein        October 5, 2006            3002   \n",
       "3                 Jennifer Celotta       October 12, 2006            3003   \n",
       "4                      B. J. Novak       October 19, 2006            3005   \n",
       "\n",
       "  U.S. viewers(millions)  \n",
       "0               9.11[54]  \n",
       "1               7.78[55]  \n",
       "2               8.89[56]  \n",
       "3               8.83[57]  \n",
       "4               8.46[58]  "
      ]
     },
     "execution_count": 17,
     "metadata": {},
     "output_type": "execute_result"
    }
   ],
   "source": [
    "season3.head()"
   ]
  },
  {
   "cell_type": "code",
   "execution_count": 18,
   "id": "83ef9fe7",
   "metadata": {
    "scrolled": true
   },
   "outputs": [
    {
     "data": {
      "text/html": [
       "<div>\n",
       "<style scoped>\n",
       "    .dataframe tbody tr th:only-of-type {\n",
       "        vertical-align: middle;\n",
       "    }\n",
       "\n",
       "    .dataframe tbody tr th {\n",
       "        vertical-align: top;\n",
       "    }\n",
       "\n",
       "    .dataframe thead th {\n",
       "        text-align: right;\n",
       "    }\n",
       "</style>\n",
       "<table border=\"1\" class=\"dataframe\">\n",
       "  <thead>\n",
       "    <tr style=\"text-align: right;\">\n",
       "      <th></th>\n",
       "      <th>Title</th>\n",
       "      <th>U.S. viewers(millions)</th>\n",
       "    </tr>\n",
       "  </thead>\n",
       "  <tbody>\n",
       "    <tr>\n",
       "      <th>0</th>\n",
       "      <td>\"Gay Witch Hunt\"</td>\n",
       "      <td>9.11[54]</td>\n",
       "    </tr>\n",
       "    <tr>\n",
       "      <th>1</th>\n",
       "      <td>\"The Convention\"</td>\n",
       "      <td>7.78[55]</td>\n",
       "    </tr>\n",
       "    <tr>\n",
       "      <th>2</th>\n",
       "      <td>\"The Coup\"</td>\n",
       "      <td>8.89[56]</td>\n",
       "    </tr>\n",
       "    <tr>\n",
       "      <th>3</th>\n",
       "      <td>\"Grief Counseling\"</td>\n",
       "      <td>8.83[57]</td>\n",
       "    </tr>\n",
       "    <tr>\n",
       "      <th>4</th>\n",
       "      <td>\"Initiation\"</td>\n",
       "      <td>8.46[58]</td>\n",
       "    </tr>\n",
       "    <tr>\n",
       "      <th>5</th>\n",
       "      <td>\"Diwali\"</td>\n",
       "      <td>8.81[59]</td>\n",
       "    </tr>\n",
       "    <tr>\n",
       "      <th>6</th>\n",
       "      <td>\"Branch Closing\"†</td>\n",
       "      <td>8.05[60]</td>\n",
       "    </tr>\n",
       "    <tr>\n",
       "      <th>7</th>\n",
       "      <td>\"The Merger\"†</td>\n",
       "      <td>8.63[61]</td>\n",
       "    </tr>\n",
       "    <tr>\n",
       "      <th>8</th>\n",
       "      <td>\"The Convict\"</td>\n",
       "      <td>9.07[62]</td>\n",
       "    </tr>\n",
       "    <tr>\n",
       "      <th>9</th>\n",
       "      <td>\"A Benihana Christmas\"‡</td>\n",
       "      <td>8.44[63]</td>\n",
       "    </tr>\n",
       "    <tr>\n",
       "      <th>10</th>\n",
       "      <td>\"Back from Vacation\"</td>\n",
       "      <td>8.80[64]</td>\n",
       "    </tr>\n",
       "    <tr>\n",
       "      <th>11</th>\n",
       "      <td>\"Traveling Salesmen\"</td>\n",
       "      <td>10.12[65]</td>\n",
       "    </tr>\n",
       "    <tr>\n",
       "      <th>12</th>\n",
       "      <td>\"The Return\"†</td>\n",
       "      <td>10.20[66]</td>\n",
       "    </tr>\n",
       "    <tr>\n",
       "      <th>13</th>\n",
       "      <td>\"Ben Franklin\"</td>\n",
       "      <td>10.11[65]</td>\n",
       "    </tr>\n",
       "    <tr>\n",
       "      <th>14</th>\n",
       "      <td>\"Phyllis' Wedding\"</td>\n",
       "      <td>8.84[67]</td>\n",
       "    </tr>\n",
       "    <tr>\n",
       "      <th>15</th>\n",
       "      <td>\"Business School\"</td>\n",
       "      <td>8.84[68]</td>\n",
       "    </tr>\n",
       "    <tr>\n",
       "      <th>16</th>\n",
       "      <td>\"Cocktails\"</td>\n",
       "      <td>8.30[69]</td>\n",
       "    </tr>\n",
       "    <tr>\n",
       "      <th>17</th>\n",
       "      <td>\"The Negotiation\"†</td>\n",
       "      <td>6.74[65]</td>\n",
       "    </tr>\n",
       "    <tr>\n",
       "      <th>18</th>\n",
       "      <td>\"Safety Training\"</td>\n",
       "      <td>7.71[70]</td>\n",
       "    </tr>\n",
       "    <tr>\n",
       "      <th>19</th>\n",
       "      <td>\"Product Recall\"</td>\n",
       "      <td>7.56[71]</td>\n",
       "    </tr>\n",
       "    <tr>\n",
       "      <th>20</th>\n",
       "      <td>\"Women's Appreciation\"†</td>\n",
       "      <td>7.00[72]</td>\n",
       "    </tr>\n",
       "    <tr>\n",
       "      <th>21</th>\n",
       "      <td>\"Beach Games\"†</td>\n",
       "      <td>7.20[73]</td>\n",
       "    </tr>\n",
       "    <tr>\n",
       "      <th>22</th>\n",
       "      <td>\"The Job\"‡</td>\n",
       "      <td>7.88[65]</td>\n",
       "    </tr>\n",
       "  </tbody>\n",
       "</table>\n",
       "</div>"
      ],
      "text/plain": [
       "                      Title U.S. viewers(millions)\n",
       "0          \"Gay Witch Hunt\"               9.11[54]\n",
       "1          \"The Convention\"               7.78[55]\n",
       "2                \"The Coup\"               8.89[56]\n",
       "3        \"Grief Counseling\"               8.83[57]\n",
       "4              \"Initiation\"               8.46[58]\n",
       "5                  \"Diwali\"               8.81[59]\n",
       "6         \"Branch Closing\"†               8.05[60]\n",
       "7             \"The Merger\"†               8.63[61]\n",
       "8             \"The Convict\"               9.07[62]\n",
       "9   \"A Benihana Christmas\"‡               8.44[63]\n",
       "10     \"Back from Vacation\"               8.80[64]\n",
       "11     \"Traveling Salesmen\"              10.12[65]\n",
       "12            \"The Return\"†              10.20[66]\n",
       "13           \"Ben Franklin\"              10.11[65]\n",
       "14       \"Phyllis' Wedding\"               8.84[67]\n",
       "15        \"Business School\"               8.84[68]\n",
       "16              \"Cocktails\"               8.30[69]\n",
       "17       \"The Negotiation\"†               6.74[65]\n",
       "18        \"Safety Training\"               7.71[70]\n",
       "19         \"Product Recall\"               7.56[71]\n",
       "20  \"Women's Appreciation\"†               7.00[72]\n",
       "21           \"Beach Games\"†               7.20[73]\n",
       "22               \"The Job\"‡               7.88[65]"
      ]
     },
     "execution_count": 18,
     "metadata": {},
     "output_type": "execute_result"
    }
   ],
   "source": [
    "season3[['Title','U.S. viewers(millions)']]"
   ]
  },
  {
   "cell_type": "code",
   "execution_count": 19,
   "id": "7379c6d3",
   "metadata": {},
   "outputs": [
    {
     "data": {
      "application/vnd.plotly.v1+json": {
       "config": {
        "plotlyServerURL": "https://plot.ly"
       },
       "data": [
        {
         "alignmentgroup": "True",
         "customdata": [
          [
           29,
           1,
           "Greg Daniels",
           "September 21, 2006"
          ],
          [
           5253,
           2425,
           "Paul Lieberstein & Michael Schur",
           "May 17, 2007"
          ]
         ],
         "hovertemplate": "Directed by=Ken Kwapis<br>U.S. viewers(millions)=%{x}<br>Title=%{y}<br>No.overall=%{customdata[0]}<br>No. inseason=%{customdata[1]}<br>Written by=%{customdata[2]}<br>Original air date [16]=%{customdata[3]}<extra></extra>",
         "legendgroup": "Ken Kwapis",
         "marker": {
          "color": "#636efa",
          "pattern": {
           "shape": ""
          }
         },
         "name": "Ken Kwapis",
         "offsetgroup": "Ken Kwapis",
         "orientation": "h",
         "showlegend": true,
         "textposition": "auto",
         "type": "bar",
         "x": [
          "9.11[54]",
          "7.88[65]"
         ],
         "xaxis": "x",
         "y": [
          "\"Gay Witch Hunt\"",
          "\"The Job\"‡"
         ],
         "yaxis": "y"
        },
        {
         "alignmentgroup": "True",
         "customdata": [
          [
           30,
           2,
           "Gene Stupnitsky & Lee Eisenberg",
           "September 28, 2006"
          ],
          [
           36,
           8,
           "Brent Forrester",
           "November 16, 2006"
          ],
          [
           44,
           16,
           "Caroline Williams",
           "February 8, 2007"
          ]
         ],
         "hovertemplate": "Directed by=Ken Whittingham<br>U.S. viewers(millions)=%{x}<br>Title=%{y}<br>No.overall=%{customdata[0]}<br>No. inseason=%{customdata[1]}<br>Written by=%{customdata[2]}<br>Original air date [16]=%{customdata[3]}<extra></extra>",
         "legendgroup": "Ken Whittingham",
         "marker": {
          "color": "#EF553B",
          "pattern": {
           "shape": ""
          }
         },
         "name": "Ken Whittingham",
         "offsetgroup": "Ken Whittingham",
         "orientation": "h",
         "showlegend": true,
         "textposition": "auto",
         "type": "bar",
         "x": [
          "7.78[55]",
          "8.63[61]",
          "8.84[67]"
         ],
         "xaxis": "x",
         "y": [
          "\"The Convention\"",
          "\"The Merger\"†",
          "\"Phyllis' Wedding\""
         ],
         "yaxis": "y"
        },
        {
         "alignmentgroup": "True",
         "customdata": [
          [
           31,
           3,
           "Paul Lieberstein",
           "October 5, 2006"
          ],
          [
           41,
           13,
           "Michael Schur & Lee Eisenberg & Gene Stupnitsky",
           "January 11, 2007"
          ],
          [
           42,
           14,
           "Lee Eisenberg & Gene Stupnitsky & Michael Schur",
           "January 18, 2007"
          ]
         ],
         "hovertemplate": "Directed by=Greg Daniels<br>U.S. viewers(millions)=%{x}<br>Title=%{y}<br>No.overall=%{customdata[0]}<br>No. inseason=%{customdata[1]}<br>Written by=%{customdata[2]}<br>Original air date [16]=%{customdata[3]}<extra></extra>",
         "legendgroup": "Greg Daniels",
         "marker": {
          "color": "#00cc96",
          "pattern": {
           "shape": ""
          }
         },
         "name": "Greg Daniels",
         "offsetgroup": "Greg Daniels",
         "orientation": "h",
         "showlegend": true,
         "textposition": "auto",
         "type": "bar",
         "x": [
          "8.89[56]",
          "10.12[65]",
          "10.20[66]"
         ],
         "xaxis": "x",
         "y": [
          "\"The Coup\"",
          "\"Traveling Salesmen\"",
          "\"The Return\"†"
         ],
         "yaxis": "y"
        },
        {
         "alignmentgroup": "True",
         "customdata": [
          [
           32,
           4,
           "Jennifer Celotta",
           "October 12, 2006"
          ]
         ],
         "hovertemplate": "Directed by=Roger Nygard<br>U.S. viewers(millions)=%{x}<br>Title=%{y}<br>No.overall=%{customdata[0]}<br>No. inseason=%{customdata[1]}<br>Written by=%{customdata[2]}<br>Original air date [16]=%{customdata[3]}<extra></extra>",
         "legendgroup": "Roger Nygard",
         "marker": {
          "color": "#ab63fa",
          "pattern": {
           "shape": ""
          }
         },
         "name": "Roger Nygard",
         "offsetgroup": "Roger Nygard",
         "orientation": "h",
         "showlegend": true,
         "textposition": "auto",
         "type": "bar",
         "x": [
          "8.83[57]"
         ],
         "xaxis": "x",
         "y": [
          "\"Grief Counseling\""
         ],
         "yaxis": "y"
        },
        {
         "alignmentgroup": "True",
         "customdata": [
          [
           33,
           5,
           "B. J. Novak",
           "October 19, 2006"
          ],
          [
           43,
           15,
           "Mindy Kaling",
           "February 1, 2007"
          ],
          [
           49,
           21,
           "Justin Spitzer & Brent Forrester",
           "April 26, 2007"
          ]
         ],
         "hovertemplate": "Directed by=Randall Einhorn<br>U.S. viewers(millions)=%{x}<br>Title=%{y}<br>No.overall=%{customdata[0]}<br>No. inseason=%{customdata[1]}<br>Written by=%{customdata[2]}<br>Original air date [16]=%{customdata[3]}<extra></extra>",
         "legendgroup": "Randall Einhorn",
         "marker": {
          "color": "#FFA15A",
          "pattern": {
           "shape": ""
          }
         },
         "name": "Randall Einhorn",
         "offsetgroup": "Randall Einhorn",
         "orientation": "h",
         "showlegend": true,
         "textposition": "auto",
         "type": "bar",
         "x": [
          "8.46[58]",
          "10.11[65]",
          "7.56[71]"
         ],
         "xaxis": "x",
         "y": [
          "\"Initiation\"",
          "\"Ben Franklin\"",
          "\"Product Recall\""
         ],
         "yaxis": "y"
        },
        {
         "alignmentgroup": "True",
         "customdata": [
          [
           34,
           6,
           "Mindy Kaling",
           "November 2, 2006"
          ]
         ],
         "hovertemplate": "Directed by=Miguel Arteta<br>U.S. viewers(millions)=%{x}<br>Title=%{y}<br>No.overall=%{customdata[0]}<br>No. inseason=%{customdata[1]}<br>Written by=%{customdata[2]}<br>Original air date [16]=%{customdata[3]}<extra></extra>",
         "legendgroup": "Miguel Arteta",
         "marker": {
          "color": "#19d3f3",
          "pattern": {
           "shape": ""
          }
         },
         "name": "Miguel Arteta",
         "offsetgroup": "Miguel Arteta",
         "orientation": "h",
         "showlegend": true,
         "textposition": "auto",
         "type": "bar",
         "x": [
          "8.81[59]"
         ],
         "xaxis": "x",
         "y": [
          "\"Diwali\""
         ],
         "yaxis": "y"
        },
        {
         "alignmentgroup": "True",
         "customdata": [
          [
           35,
           7,
           "Michael Schur",
           "November 9, 2006"
          ],
          [
           50,
           22,
           "Gene Stupnitsky & Lee Eisenberg",
           "May 3, 2007"
          ]
         ],
         "hovertemplate": "Directed by=Tucker Gates<br>U.S. viewers(millions)=%{x}<br>Title=%{y}<br>No.overall=%{customdata[0]}<br>No. inseason=%{customdata[1]}<br>Written by=%{customdata[2]}<br>Original air date [16]=%{customdata[3]}<extra></extra>",
         "legendgroup": "Tucker Gates",
         "marker": {
          "color": "#FF6692",
          "pattern": {
           "shape": ""
          }
         },
         "name": "Tucker Gates",
         "offsetgroup": "Tucker Gates",
         "orientation": "h",
         "showlegend": true,
         "textposition": "auto",
         "type": "bar",
         "x": [
          "8.05[60]",
          "7.00[72]"
         ],
         "xaxis": "x",
         "y": [
          "\"Branch Closing\"†",
          "\"Women's Appreciation\"†"
         ],
         "yaxis": "y"
        },
        {
         "alignmentgroup": "True",
         "customdata": [
          [
           37,
           9,
           "Ricky Gervais & Stephen Merchant",
           "November 30, 2006"
          ],
          [
           47,
           19,
           "Michael Schur",
           "April 5, 2007"
          ]
         ],
         "hovertemplate": "Directed by=Jeffrey Blitz<br>U.S. viewers(millions)=%{x}<br>Title=%{y}<br>No.overall=%{customdata[0]}<br>No. inseason=%{customdata[1]}<br>Written by=%{customdata[2]}<br>Original air date [16]=%{customdata[3]}<extra></extra>",
         "legendgroup": "Jeffrey Blitz",
         "marker": {
          "color": "#B6E880",
          "pattern": {
           "shape": ""
          }
         },
         "name": "Jeffrey Blitz",
         "offsetgroup": "Jeffrey Blitz",
         "orientation": "h",
         "showlegend": true,
         "textposition": "auto",
         "type": "bar",
         "x": [
          "9.07[62]",
          "6.74[65]"
         ],
         "xaxis": "x",
         "y": [
          "\"The Convict\"",
          "\"The Negotiation\"†"
         ],
         "yaxis": "y"
        },
        {
         "alignmentgroup": "True",
         "customdata": [
          [
           3839,
           1011,
           "Jennifer Celotta",
           "December 14, 2006"
          ],
          [
           48,
           20,
           "B. J. Novak",
           "April 12, 2007"
          ],
          [
           51,
           23,
           "Jennifer Celotta & Greg Daniels",
           "May 10, 2007"
          ]
         ],
         "hovertemplate": "Directed by=Harold Ramis<br>U.S. viewers(millions)=%{x}<br>Title=%{y}<br>No.overall=%{customdata[0]}<br>No. inseason=%{customdata[1]}<br>Written by=%{customdata[2]}<br>Original air date [16]=%{customdata[3]}<extra></extra>",
         "legendgroup": "Harold Ramis",
         "marker": {
          "color": "#FF97FF",
          "pattern": {
           "shape": ""
          }
         },
         "name": "Harold Ramis",
         "offsetgroup": "Harold Ramis",
         "orientation": "h",
         "showlegend": true,
         "textposition": "auto",
         "type": "bar",
         "x": [
          "8.44[63]",
          "7.71[70]",
          "7.20[73]"
         ],
         "xaxis": "x",
         "y": [
          "\"A Benihana Christmas\"‡",
          "\"Safety Training\"",
          "\"Beach Games\"†"
         ],
         "yaxis": "y"
        },
        {
         "alignmentgroup": "True",
         "customdata": [
          [
           40,
           12,
           "Justin Spitzer",
           "January 4, 2007"
          ]
         ],
         "hovertemplate": "Directed by=Julian Farino<br>U.S. viewers(millions)=%{x}<br>Title=%{y}<br>No.overall=%{customdata[0]}<br>No. inseason=%{customdata[1]}<br>Written by=%{customdata[2]}<br>Original air date [16]=%{customdata[3]}<extra></extra>",
         "legendgroup": "Julian Farino",
         "marker": {
          "color": "#FECB52",
          "pattern": {
           "shape": ""
          }
         },
         "name": "Julian Farino",
         "offsetgroup": "Julian Farino",
         "orientation": "h",
         "showlegend": true,
         "textposition": "auto",
         "type": "bar",
         "x": [
          "8.80[64]"
         ],
         "xaxis": "x",
         "y": [
          "\"Back from Vacation\""
         ],
         "yaxis": "y"
        },
        {
         "alignmentgroup": "True",
         "customdata": [
          [
           45,
           17,
           "Brent Forrester",
           "February 15, 2007"
          ]
         ],
         "hovertemplate": "Directed by=Joss Whedon<br>U.S. viewers(millions)=%{x}<br>Title=%{y}<br>No.overall=%{customdata[0]}<br>No. inseason=%{customdata[1]}<br>Written by=%{customdata[2]}<br>Original air date [16]=%{customdata[3]}<extra></extra>",
         "legendgroup": "Joss Whedon",
         "marker": {
          "color": "#636efa",
          "pattern": {
           "shape": ""
          }
         },
         "name": "Joss Whedon",
         "offsetgroup": "Joss Whedon",
         "orientation": "h",
         "showlegend": true,
         "textposition": "auto",
         "type": "bar",
         "x": [
          "8.84[68]"
         ],
         "xaxis": "x",
         "y": [
          "\"Business School\""
         ],
         "yaxis": "y"
        },
        {
         "alignmentgroup": "True",
         "customdata": [
          [
           46,
           18,
           "Paul Lieberstein",
           "February 22, 2007"
          ]
         ],
         "hovertemplate": "Directed by=J. J. Abrams<br>U.S. viewers(millions)=%{x}<br>Title=%{y}<br>No.overall=%{customdata[0]}<br>No. inseason=%{customdata[1]}<br>Written by=%{customdata[2]}<br>Original air date [16]=%{customdata[3]}<extra></extra>",
         "legendgroup": "J. J. Abrams",
         "marker": {
          "color": "#EF553B",
          "pattern": {
           "shape": ""
          }
         },
         "name": "J. J. Abrams",
         "offsetgroup": "J. J. Abrams",
         "orientation": "h",
         "showlegend": true,
         "textposition": "auto",
         "type": "bar",
         "x": [
          "8.30[69]"
         ],
         "xaxis": "x",
         "y": [
          "\"Cocktails\""
         ],
         "yaxis": "y"
        }
       ],
       "layout": {
        "barmode": "relative",
        "height": 400,
        "legend": {
         "title": {
          "text": "Directed by"
         },
         "tracegroupgap": 0
        },
        "template": {
         "data": {
          "bar": [
           {
            "error_x": {
             "color": "#2a3f5f"
            },
            "error_y": {
             "color": "#2a3f5f"
            },
            "marker": {
             "line": {
              "color": "#E5ECF6",
              "width": 0.5
             },
             "pattern": {
              "fillmode": "overlay",
              "size": 10,
              "solidity": 0.2
             }
            },
            "type": "bar"
           }
          ],
          "barpolar": [
           {
            "marker": {
             "line": {
              "color": "#E5ECF6",
              "width": 0.5
             },
             "pattern": {
              "fillmode": "overlay",
              "size": 10,
              "solidity": 0.2
             }
            },
            "type": "barpolar"
           }
          ],
          "carpet": [
           {
            "aaxis": {
             "endlinecolor": "#2a3f5f",
             "gridcolor": "white",
             "linecolor": "white",
             "minorgridcolor": "white",
             "startlinecolor": "#2a3f5f"
            },
            "baxis": {
             "endlinecolor": "#2a3f5f",
             "gridcolor": "white",
             "linecolor": "white",
             "minorgridcolor": "white",
             "startlinecolor": "#2a3f5f"
            },
            "type": "carpet"
           }
          ],
          "choropleth": [
           {
            "colorbar": {
             "outlinewidth": 0,
             "ticks": ""
            },
            "type": "choropleth"
           }
          ],
          "contour": [
           {
            "colorbar": {
             "outlinewidth": 0,
             "ticks": ""
            },
            "colorscale": [
             [
              0,
              "#0d0887"
             ],
             [
              0.1111111111111111,
              "#46039f"
             ],
             [
              0.2222222222222222,
              "#7201a8"
             ],
             [
              0.3333333333333333,
              "#9c179e"
             ],
             [
              0.4444444444444444,
              "#bd3786"
             ],
             [
              0.5555555555555556,
              "#d8576b"
             ],
             [
              0.6666666666666666,
              "#ed7953"
             ],
             [
              0.7777777777777778,
              "#fb9f3a"
             ],
             [
              0.8888888888888888,
              "#fdca26"
             ],
             [
              1,
              "#f0f921"
             ]
            ],
            "type": "contour"
           }
          ],
          "contourcarpet": [
           {
            "colorbar": {
             "outlinewidth": 0,
             "ticks": ""
            },
            "type": "contourcarpet"
           }
          ],
          "heatmap": [
           {
            "colorbar": {
             "outlinewidth": 0,
             "ticks": ""
            },
            "colorscale": [
             [
              0,
              "#0d0887"
             ],
             [
              0.1111111111111111,
              "#46039f"
             ],
             [
              0.2222222222222222,
              "#7201a8"
             ],
             [
              0.3333333333333333,
              "#9c179e"
             ],
             [
              0.4444444444444444,
              "#bd3786"
             ],
             [
              0.5555555555555556,
              "#d8576b"
             ],
             [
              0.6666666666666666,
              "#ed7953"
             ],
             [
              0.7777777777777778,
              "#fb9f3a"
             ],
             [
              0.8888888888888888,
              "#fdca26"
             ],
             [
              1,
              "#f0f921"
             ]
            ],
            "type": "heatmap"
           }
          ],
          "heatmapgl": [
           {
            "colorbar": {
             "outlinewidth": 0,
             "ticks": ""
            },
            "colorscale": [
             [
              0,
              "#0d0887"
             ],
             [
              0.1111111111111111,
              "#46039f"
             ],
             [
              0.2222222222222222,
              "#7201a8"
             ],
             [
              0.3333333333333333,
              "#9c179e"
             ],
             [
              0.4444444444444444,
              "#bd3786"
             ],
             [
              0.5555555555555556,
              "#d8576b"
             ],
             [
              0.6666666666666666,
              "#ed7953"
             ],
             [
              0.7777777777777778,
              "#fb9f3a"
             ],
             [
              0.8888888888888888,
              "#fdca26"
             ],
             [
              1,
              "#f0f921"
             ]
            ],
            "type": "heatmapgl"
           }
          ],
          "histogram": [
           {
            "marker": {
             "pattern": {
              "fillmode": "overlay",
              "size": 10,
              "solidity": 0.2
             }
            },
            "type": "histogram"
           }
          ],
          "histogram2d": [
           {
            "colorbar": {
             "outlinewidth": 0,
             "ticks": ""
            },
            "colorscale": [
             [
              0,
              "#0d0887"
             ],
             [
              0.1111111111111111,
              "#46039f"
             ],
             [
              0.2222222222222222,
              "#7201a8"
             ],
             [
              0.3333333333333333,
              "#9c179e"
             ],
             [
              0.4444444444444444,
              "#bd3786"
             ],
             [
              0.5555555555555556,
              "#d8576b"
             ],
             [
              0.6666666666666666,
              "#ed7953"
             ],
             [
              0.7777777777777778,
              "#fb9f3a"
             ],
             [
              0.8888888888888888,
              "#fdca26"
             ],
             [
              1,
              "#f0f921"
             ]
            ],
            "type": "histogram2d"
           }
          ],
          "histogram2dcontour": [
           {
            "colorbar": {
             "outlinewidth": 0,
             "ticks": ""
            },
            "colorscale": [
             [
              0,
              "#0d0887"
             ],
             [
              0.1111111111111111,
              "#46039f"
             ],
             [
              0.2222222222222222,
              "#7201a8"
             ],
             [
              0.3333333333333333,
              "#9c179e"
             ],
             [
              0.4444444444444444,
              "#bd3786"
             ],
             [
              0.5555555555555556,
              "#d8576b"
             ],
             [
              0.6666666666666666,
              "#ed7953"
             ],
             [
              0.7777777777777778,
              "#fb9f3a"
             ],
             [
              0.8888888888888888,
              "#fdca26"
             ],
             [
              1,
              "#f0f921"
             ]
            ],
            "type": "histogram2dcontour"
           }
          ],
          "mesh3d": [
           {
            "colorbar": {
             "outlinewidth": 0,
             "ticks": ""
            },
            "type": "mesh3d"
           }
          ],
          "parcoords": [
           {
            "line": {
             "colorbar": {
              "outlinewidth": 0,
              "ticks": ""
             }
            },
            "type": "parcoords"
           }
          ],
          "pie": [
           {
            "automargin": true,
            "type": "pie"
           }
          ],
          "scatter": [
           {
            "fillpattern": {
             "fillmode": "overlay",
             "size": 10,
             "solidity": 0.2
            },
            "type": "scatter"
           }
          ],
          "scatter3d": [
           {
            "line": {
             "colorbar": {
              "outlinewidth": 0,
              "ticks": ""
             }
            },
            "marker": {
             "colorbar": {
              "outlinewidth": 0,
              "ticks": ""
             }
            },
            "type": "scatter3d"
           }
          ],
          "scattercarpet": [
           {
            "marker": {
             "colorbar": {
              "outlinewidth": 0,
              "ticks": ""
             }
            },
            "type": "scattercarpet"
           }
          ],
          "scattergeo": [
           {
            "marker": {
             "colorbar": {
              "outlinewidth": 0,
              "ticks": ""
             }
            },
            "type": "scattergeo"
           }
          ],
          "scattergl": [
           {
            "marker": {
             "colorbar": {
              "outlinewidth": 0,
              "ticks": ""
             }
            },
            "type": "scattergl"
           }
          ],
          "scattermapbox": [
           {
            "marker": {
             "colorbar": {
              "outlinewidth": 0,
              "ticks": ""
             }
            },
            "type": "scattermapbox"
           }
          ],
          "scatterpolar": [
           {
            "marker": {
             "colorbar": {
              "outlinewidth": 0,
              "ticks": ""
             }
            },
            "type": "scatterpolar"
           }
          ],
          "scatterpolargl": [
           {
            "marker": {
             "colorbar": {
              "outlinewidth": 0,
              "ticks": ""
             }
            },
            "type": "scatterpolargl"
           }
          ],
          "scatterternary": [
           {
            "marker": {
             "colorbar": {
              "outlinewidth": 0,
              "ticks": ""
             }
            },
            "type": "scatterternary"
           }
          ],
          "surface": [
           {
            "colorbar": {
             "outlinewidth": 0,
             "ticks": ""
            },
            "colorscale": [
             [
              0,
              "#0d0887"
             ],
             [
              0.1111111111111111,
              "#46039f"
             ],
             [
              0.2222222222222222,
              "#7201a8"
             ],
             [
              0.3333333333333333,
              "#9c179e"
             ],
             [
              0.4444444444444444,
              "#bd3786"
             ],
             [
              0.5555555555555556,
              "#d8576b"
             ],
             [
              0.6666666666666666,
              "#ed7953"
             ],
             [
              0.7777777777777778,
              "#fb9f3a"
             ],
             [
              0.8888888888888888,
              "#fdca26"
             ],
             [
              1,
              "#f0f921"
             ]
            ],
            "type": "surface"
           }
          ],
          "table": [
           {
            "cells": {
             "fill": {
              "color": "#EBF0F8"
             },
             "line": {
              "color": "white"
             }
            },
            "header": {
             "fill": {
              "color": "#C8D4E3"
             },
             "line": {
              "color": "white"
             }
            },
            "type": "table"
           }
          ]
         },
         "layout": {
          "annotationdefaults": {
           "arrowcolor": "#2a3f5f",
           "arrowhead": 0,
           "arrowwidth": 1
          },
          "autotypenumbers": "strict",
          "coloraxis": {
           "colorbar": {
            "outlinewidth": 0,
            "ticks": ""
           }
          },
          "colorscale": {
           "diverging": [
            [
             0,
             "#8e0152"
            ],
            [
             0.1,
             "#c51b7d"
            ],
            [
             0.2,
             "#de77ae"
            ],
            [
             0.3,
             "#f1b6da"
            ],
            [
             0.4,
             "#fde0ef"
            ],
            [
             0.5,
             "#f7f7f7"
            ],
            [
             0.6,
             "#e6f5d0"
            ],
            [
             0.7,
             "#b8e186"
            ],
            [
             0.8,
             "#7fbc41"
            ],
            [
             0.9,
             "#4d9221"
            ],
            [
             1,
             "#276419"
            ]
           ],
           "sequential": [
            [
             0,
             "#0d0887"
            ],
            [
             0.1111111111111111,
             "#46039f"
            ],
            [
             0.2222222222222222,
             "#7201a8"
            ],
            [
             0.3333333333333333,
             "#9c179e"
            ],
            [
             0.4444444444444444,
             "#bd3786"
            ],
            [
             0.5555555555555556,
             "#d8576b"
            ],
            [
             0.6666666666666666,
             "#ed7953"
            ],
            [
             0.7777777777777778,
             "#fb9f3a"
            ],
            [
             0.8888888888888888,
             "#fdca26"
            ],
            [
             1,
             "#f0f921"
            ]
           ],
           "sequentialminus": [
            [
             0,
             "#0d0887"
            ],
            [
             0.1111111111111111,
             "#46039f"
            ],
            [
             0.2222222222222222,
             "#7201a8"
            ],
            [
             0.3333333333333333,
             "#9c179e"
            ],
            [
             0.4444444444444444,
             "#bd3786"
            ],
            [
             0.5555555555555556,
             "#d8576b"
            ],
            [
             0.6666666666666666,
             "#ed7953"
            ],
            [
             0.7777777777777778,
             "#fb9f3a"
            ],
            [
             0.8888888888888888,
             "#fdca26"
            ],
            [
             1,
             "#f0f921"
            ]
           ]
          },
          "colorway": [
           "#636efa",
           "#EF553B",
           "#00cc96",
           "#ab63fa",
           "#FFA15A",
           "#19d3f3",
           "#FF6692",
           "#B6E880",
           "#FF97FF",
           "#FECB52"
          ],
          "font": {
           "color": "#2a3f5f"
          },
          "geo": {
           "bgcolor": "white",
           "lakecolor": "white",
           "landcolor": "#E5ECF6",
           "showlakes": true,
           "showland": true,
           "subunitcolor": "white"
          },
          "hoverlabel": {
           "align": "left"
          },
          "hovermode": "closest",
          "mapbox": {
           "style": "light"
          },
          "paper_bgcolor": "white",
          "plot_bgcolor": "#E5ECF6",
          "polar": {
           "angularaxis": {
            "gridcolor": "white",
            "linecolor": "white",
            "ticks": ""
           },
           "bgcolor": "#E5ECF6",
           "radialaxis": {
            "gridcolor": "white",
            "linecolor": "white",
            "ticks": ""
           }
          },
          "scene": {
           "xaxis": {
            "backgroundcolor": "#E5ECF6",
            "gridcolor": "white",
            "gridwidth": 2,
            "linecolor": "white",
            "showbackground": true,
            "ticks": "",
            "zerolinecolor": "white"
           },
           "yaxis": {
            "backgroundcolor": "#E5ECF6",
            "gridcolor": "white",
            "gridwidth": 2,
            "linecolor": "white",
            "showbackground": true,
            "ticks": "",
            "zerolinecolor": "white"
           },
           "zaxis": {
            "backgroundcolor": "#E5ECF6",
            "gridcolor": "white",
            "gridwidth": 2,
            "linecolor": "white",
            "showbackground": true,
            "ticks": "",
            "zerolinecolor": "white"
           }
          },
          "shapedefaults": {
           "line": {
            "color": "#2a3f5f"
           }
          },
          "ternary": {
           "aaxis": {
            "gridcolor": "white",
            "linecolor": "white",
            "ticks": ""
           },
           "baxis": {
            "gridcolor": "white",
            "linecolor": "white",
            "ticks": ""
           },
           "bgcolor": "#E5ECF6",
           "caxis": {
            "gridcolor": "white",
            "linecolor": "white",
            "ticks": ""
           }
          },
          "title": {
           "x": 0.05
          },
          "xaxis": {
           "automargin": true,
           "gridcolor": "white",
           "linecolor": "white",
           "ticks": "",
           "title": {
            "standoff": 15
           },
           "zerolinecolor": "white",
           "zerolinewidth": 2
          },
          "yaxis": {
           "automargin": true,
           "gridcolor": "white",
           "linecolor": "white",
           "ticks": "",
           "title": {
            "standoff": 15
           },
           "zerolinecolor": "white",
           "zerolinewidth": 2
          }
         }
        },
        "title": {
         "text": "The Office - Season 3"
        },
        "xaxis": {
         "anchor": "y",
         "domain": [
          0,
          1
         ],
         "title": {
          "text": "U.S. viewers(millions)"
         }
        },
        "yaxis": {
         "anchor": "x",
         "domain": [
          0,
          1
         ],
         "title": {
          "text": "Title"
         }
        }
       }
      },
      "text/html": [
       "<div>                            <div id=\"22dd6244-7212-43bf-a666-888a761990ad\" class=\"plotly-graph-div\" style=\"height:400px; width:100%;\"></div>            <script type=\"text/javascript\">                require([\"plotly\"], function(Plotly) {                    window.PLOTLYENV=window.PLOTLYENV || {};                                    if (document.getElementById(\"22dd6244-7212-43bf-a666-888a761990ad\")) {                    Plotly.newPlot(                        \"22dd6244-7212-43bf-a666-888a761990ad\",                        [{\"alignmentgroup\":\"True\",\"customdata\":[[29,1,\"Greg Daniels\",\"September\\u00a021,\\u00a02006\"],[5253,2425,\"Paul Lieberstein & Michael Schur\",\"May\\u00a017,\\u00a02007\"]],\"hovertemplate\":\"Directed by=Ken Kwapis<br>U.S. viewers(millions)=%{x}<br>Title=%{y}<br>No.overall=%{customdata[0]}<br>No. inseason=%{customdata[1]}<br>Written by=%{customdata[2]}<br>Original air date\\u200a[16]=%{customdata[3]}<extra></extra>\",\"legendgroup\":\"Ken Kwapis\",\"marker\":{\"color\":\"#636efa\",\"pattern\":{\"shape\":\"\"}},\"name\":\"Ken Kwapis\",\"offsetgroup\":\"Ken Kwapis\",\"orientation\":\"h\",\"showlegend\":true,\"textposition\":\"auto\",\"x\":[\"9.11[54]\",\"7.88[65]\"],\"xaxis\":\"x\",\"y\":[\"\\\"Gay Witch Hunt\\\"\",\"\\\"The Job\\\"\\u2021\"],\"yaxis\":\"y\",\"type\":\"bar\"},{\"alignmentgroup\":\"True\",\"customdata\":[[30,2,\"Gene Stupnitsky & Lee Eisenberg\",\"September\\u00a028,\\u00a02006\"],[36,8,\"Brent Forrester\",\"November\\u00a016,\\u00a02006\"],[44,16,\"Caroline Williams\",\"February\\u00a08,\\u00a02007\"]],\"hovertemplate\":\"Directed by=Ken Whittingham<br>U.S. viewers(millions)=%{x}<br>Title=%{y}<br>No.overall=%{customdata[0]}<br>No. inseason=%{customdata[1]}<br>Written by=%{customdata[2]}<br>Original air date\\u200a[16]=%{customdata[3]}<extra></extra>\",\"legendgroup\":\"Ken Whittingham\",\"marker\":{\"color\":\"#EF553B\",\"pattern\":{\"shape\":\"\"}},\"name\":\"Ken Whittingham\",\"offsetgroup\":\"Ken Whittingham\",\"orientation\":\"h\",\"showlegend\":true,\"textposition\":\"auto\",\"x\":[\"7.78[55]\",\"8.63[61]\",\"8.84[67]\"],\"xaxis\":\"x\",\"y\":[\"\\\"The Convention\\\"\",\"\\\"The Merger\\\"\\u2020\",\"\\\"Phyllis' Wedding\\\"\"],\"yaxis\":\"y\",\"type\":\"bar\"},{\"alignmentgroup\":\"True\",\"customdata\":[[31,3,\"Paul Lieberstein\",\"October\\u00a05,\\u00a02006\"],[41,13,\"Michael Schur & Lee Eisenberg & Gene Stupnitsky\",\"January\\u00a011,\\u00a02007\"],[42,14,\"Lee Eisenberg & Gene Stupnitsky & Michael Schur\",\"January\\u00a018,\\u00a02007\"]],\"hovertemplate\":\"Directed by=Greg Daniels<br>U.S. viewers(millions)=%{x}<br>Title=%{y}<br>No.overall=%{customdata[0]}<br>No. inseason=%{customdata[1]}<br>Written by=%{customdata[2]}<br>Original air date\\u200a[16]=%{customdata[3]}<extra></extra>\",\"legendgroup\":\"Greg Daniels\",\"marker\":{\"color\":\"#00cc96\",\"pattern\":{\"shape\":\"\"}},\"name\":\"Greg Daniels\",\"offsetgroup\":\"Greg Daniels\",\"orientation\":\"h\",\"showlegend\":true,\"textposition\":\"auto\",\"x\":[\"8.89[56]\",\"10.12[65]\",\"10.20[66]\"],\"xaxis\":\"x\",\"y\":[\"\\\"The Coup\\\"\",\"\\\"Traveling Salesmen\\\"\",\"\\\"The Return\\\"\\u2020\"],\"yaxis\":\"y\",\"type\":\"bar\"},{\"alignmentgroup\":\"True\",\"customdata\":[[32,4,\"Jennifer Celotta\",\"October\\u00a012,\\u00a02006\"]],\"hovertemplate\":\"Directed by=Roger Nygard<br>U.S. viewers(millions)=%{x}<br>Title=%{y}<br>No.overall=%{customdata[0]}<br>No. inseason=%{customdata[1]}<br>Written by=%{customdata[2]}<br>Original air date\\u200a[16]=%{customdata[3]}<extra></extra>\",\"legendgroup\":\"Roger Nygard\",\"marker\":{\"color\":\"#ab63fa\",\"pattern\":{\"shape\":\"\"}},\"name\":\"Roger Nygard\",\"offsetgroup\":\"Roger Nygard\",\"orientation\":\"h\",\"showlegend\":true,\"textposition\":\"auto\",\"x\":[\"8.83[57]\"],\"xaxis\":\"x\",\"y\":[\"\\\"Grief Counseling\\\"\"],\"yaxis\":\"y\",\"type\":\"bar\"},{\"alignmentgroup\":\"True\",\"customdata\":[[33,5,\"B. J. Novak\",\"October\\u00a019,\\u00a02006\"],[43,15,\"Mindy Kaling\",\"February\\u00a01,\\u00a02007\"],[49,21,\"Justin Spitzer & Brent Forrester\",\"April\\u00a026,\\u00a02007\"]],\"hovertemplate\":\"Directed by=Randall Einhorn<br>U.S. viewers(millions)=%{x}<br>Title=%{y}<br>No.overall=%{customdata[0]}<br>No. inseason=%{customdata[1]}<br>Written by=%{customdata[2]}<br>Original air date\\u200a[16]=%{customdata[3]}<extra></extra>\",\"legendgroup\":\"Randall Einhorn\",\"marker\":{\"color\":\"#FFA15A\",\"pattern\":{\"shape\":\"\"}},\"name\":\"Randall Einhorn\",\"offsetgroup\":\"Randall Einhorn\",\"orientation\":\"h\",\"showlegend\":true,\"textposition\":\"auto\",\"x\":[\"8.46[58]\",\"10.11[65]\",\"7.56[71]\"],\"xaxis\":\"x\",\"y\":[\"\\\"Initiation\\\"\",\"\\\"Ben Franklin\\\"\",\"\\\"Product Recall\\\"\"],\"yaxis\":\"y\",\"type\":\"bar\"},{\"alignmentgroup\":\"True\",\"customdata\":[[34,6,\"Mindy Kaling\",\"November\\u00a02,\\u00a02006\"]],\"hovertemplate\":\"Directed by=Miguel Arteta<br>U.S. viewers(millions)=%{x}<br>Title=%{y}<br>No.overall=%{customdata[0]}<br>No. inseason=%{customdata[1]}<br>Written by=%{customdata[2]}<br>Original air date\\u200a[16]=%{customdata[3]}<extra></extra>\",\"legendgroup\":\"Miguel Arteta\",\"marker\":{\"color\":\"#19d3f3\",\"pattern\":{\"shape\":\"\"}},\"name\":\"Miguel Arteta\",\"offsetgroup\":\"Miguel Arteta\",\"orientation\":\"h\",\"showlegend\":true,\"textposition\":\"auto\",\"x\":[\"8.81[59]\"],\"xaxis\":\"x\",\"y\":[\"\\\"Diwali\\\"\"],\"yaxis\":\"y\",\"type\":\"bar\"},{\"alignmentgroup\":\"True\",\"customdata\":[[35,7,\"Michael Schur\",\"November\\u00a09,\\u00a02006\"],[50,22,\"Gene Stupnitsky & Lee Eisenberg\",\"May\\u00a03,\\u00a02007\"]],\"hovertemplate\":\"Directed by=Tucker Gates<br>U.S. viewers(millions)=%{x}<br>Title=%{y}<br>No.overall=%{customdata[0]}<br>No. inseason=%{customdata[1]}<br>Written by=%{customdata[2]}<br>Original air date\\u200a[16]=%{customdata[3]}<extra></extra>\",\"legendgroup\":\"Tucker Gates\",\"marker\":{\"color\":\"#FF6692\",\"pattern\":{\"shape\":\"\"}},\"name\":\"Tucker Gates\",\"offsetgroup\":\"Tucker Gates\",\"orientation\":\"h\",\"showlegend\":true,\"textposition\":\"auto\",\"x\":[\"8.05[60]\",\"7.00[72]\"],\"xaxis\":\"x\",\"y\":[\"\\\"Branch Closing\\\"\\u2020\",\"\\\"Women's Appreciation\\\"\\u2020\"],\"yaxis\":\"y\",\"type\":\"bar\"},{\"alignmentgroup\":\"True\",\"customdata\":[[37,9,\"Ricky Gervais & Stephen Merchant\",\"November\\u00a030,\\u00a02006\"],[47,19,\"Michael Schur\",\"April\\u00a05,\\u00a02007\"]],\"hovertemplate\":\"Directed by=Jeffrey Blitz<br>U.S. viewers(millions)=%{x}<br>Title=%{y}<br>No.overall=%{customdata[0]}<br>No. inseason=%{customdata[1]}<br>Written by=%{customdata[2]}<br>Original air date\\u200a[16]=%{customdata[3]}<extra></extra>\",\"legendgroup\":\"Jeffrey Blitz\",\"marker\":{\"color\":\"#B6E880\",\"pattern\":{\"shape\":\"\"}},\"name\":\"Jeffrey Blitz\",\"offsetgroup\":\"Jeffrey Blitz\",\"orientation\":\"h\",\"showlegend\":true,\"textposition\":\"auto\",\"x\":[\"9.07[62]\",\"6.74[65]\"],\"xaxis\":\"x\",\"y\":[\"\\\"The Convict\\\"\",\"\\\"The Negotiation\\\"\\u2020\"],\"yaxis\":\"y\",\"type\":\"bar\"},{\"alignmentgroup\":\"True\",\"customdata\":[[3839,1011,\"Jennifer Celotta\",\"December\\u00a014,\\u00a02006\"],[48,20,\"B. J. Novak\",\"April\\u00a012,\\u00a02007\"],[51,23,\"Jennifer Celotta & Greg Daniels\",\"May\\u00a010,\\u00a02007\"]],\"hovertemplate\":\"Directed by=Harold Ramis<br>U.S. viewers(millions)=%{x}<br>Title=%{y}<br>No.overall=%{customdata[0]}<br>No. inseason=%{customdata[1]}<br>Written by=%{customdata[2]}<br>Original air date\\u200a[16]=%{customdata[3]}<extra></extra>\",\"legendgroup\":\"Harold Ramis\",\"marker\":{\"color\":\"#FF97FF\",\"pattern\":{\"shape\":\"\"}},\"name\":\"Harold Ramis\",\"offsetgroup\":\"Harold Ramis\",\"orientation\":\"h\",\"showlegend\":true,\"textposition\":\"auto\",\"x\":[\"8.44[63]\",\"7.71[70]\",\"7.20[73]\"],\"xaxis\":\"x\",\"y\":[\"\\\"A Benihana Christmas\\\"\\u2021\",\"\\\"Safety Training\\\"\",\"\\\"Beach Games\\\"\\u2020\"],\"yaxis\":\"y\",\"type\":\"bar\"},{\"alignmentgroup\":\"True\",\"customdata\":[[40,12,\"Justin Spitzer\",\"January\\u00a04,\\u00a02007\"]],\"hovertemplate\":\"Directed by=Julian Farino<br>U.S. viewers(millions)=%{x}<br>Title=%{y}<br>No.overall=%{customdata[0]}<br>No. inseason=%{customdata[1]}<br>Written by=%{customdata[2]}<br>Original air date\\u200a[16]=%{customdata[3]}<extra></extra>\",\"legendgroup\":\"Julian Farino\",\"marker\":{\"color\":\"#FECB52\",\"pattern\":{\"shape\":\"\"}},\"name\":\"Julian Farino\",\"offsetgroup\":\"Julian Farino\",\"orientation\":\"h\",\"showlegend\":true,\"textposition\":\"auto\",\"x\":[\"8.80[64]\"],\"xaxis\":\"x\",\"y\":[\"\\\"Back from Vacation\\\"\"],\"yaxis\":\"y\",\"type\":\"bar\"},{\"alignmentgroup\":\"True\",\"customdata\":[[45,17,\"Brent Forrester\",\"February\\u00a015,\\u00a02007\"]],\"hovertemplate\":\"Directed by=Joss Whedon<br>U.S. viewers(millions)=%{x}<br>Title=%{y}<br>No.overall=%{customdata[0]}<br>No. inseason=%{customdata[1]}<br>Written by=%{customdata[2]}<br>Original air date\\u200a[16]=%{customdata[3]}<extra></extra>\",\"legendgroup\":\"Joss Whedon\",\"marker\":{\"color\":\"#636efa\",\"pattern\":{\"shape\":\"\"}},\"name\":\"Joss Whedon\",\"offsetgroup\":\"Joss Whedon\",\"orientation\":\"h\",\"showlegend\":true,\"textposition\":\"auto\",\"x\":[\"8.84[68]\"],\"xaxis\":\"x\",\"y\":[\"\\\"Business School\\\"\"],\"yaxis\":\"y\",\"type\":\"bar\"},{\"alignmentgroup\":\"True\",\"customdata\":[[46,18,\"Paul Lieberstein\",\"February\\u00a022,\\u00a02007\"]],\"hovertemplate\":\"Directed by=J. J. Abrams<br>U.S. viewers(millions)=%{x}<br>Title=%{y}<br>No.overall=%{customdata[0]}<br>No. inseason=%{customdata[1]}<br>Written by=%{customdata[2]}<br>Original air date\\u200a[16]=%{customdata[3]}<extra></extra>\",\"legendgroup\":\"J. J. Abrams\",\"marker\":{\"color\":\"#EF553B\",\"pattern\":{\"shape\":\"\"}},\"name\":\"J. J. Abrams\",\"offsetgroup\":\"J. J. Abrams\",\"orientation\":\"h\",\"showlegend\":true,\"textposition\":\"auto\",\"x\":[\"8.30[69]\"],\"xaxis\":\"x\",\"y\":[\"\\\"Cocktails\\\"\"],\"yaxis\":\"y\",\"type\":\"bar\"}],                        {\"template\":{\"data\":{\"histogram2dcontour\":[{\"type\":\"histogram2dcontour\",\"colorbar\":{\"outlinewidth\":0,\"ticks\":\"\"},\"colorscale\":[[0.0,\"#0d0887\"],[0.1111111111111111,\"#46039f\"],[0.2222222222222222,\"#7201a8\"],[0.3333333333333333,\"#9c179e\"],[0.4444444444444444,\"#bd3786\"],[0.5555555555555556,\"#d8576b\"],[0.6666666666666666,\"#ed7953\"],[0.7777777777777778,\"#fb9f3a\"],[0.8888888888888888,\"#fdca26\"],[1.0,\"#f0f921\"]]}],\"choropleth\":[{\"type\":\"choropleth\",\"colorbar\":{\"outlinewidth\":0,\"ticks\":\"\"}}],\"histogram2d\":[{\"type\":\"histogram2d\",\"colorbar\":{\"outlinewidth\":0,\"ticks\":\"\"},\"colorscale\":[[0.0,\"#0d0887\"],[0.1111111111111111,\"#46039f\"],[0.2222222222222222,\"#7201a8\"],[0.3333333333333333,\"#9c179e\"],[0.4444444444444444,\"#bd3786\"],[0.5555555555555556,\"#d8576b\"],[0.6666666666666666,\"#ed7953\"],[0.7777777777777778,\"#fb9f3a\"],[0.8888888888888888,\"#fdca26\"],[1.0,\"#f0f921\"]]}],\"heatmap\":[{\"type\":\"heatmap\",\"colorbar\":{\"outlinewidth\":0,\"ticks\":\"\"},\"colorscale\":[[0.0,\"#0d0887\"],[0.1111111111111111,\"#46039f\"],[0.2222222222222222,\"#7201a8\"],[0.3333333333333333,\"#9c179e\"],[0.4444444444444444,\"#bd3786\"],[0.5555555555555556,\"#d8576b\"],[0.6666666666666666,\"#ed7953\"],[0.7777777777777778,\"#fb9f3a\"],[0.8888888888888888,\"#fdca26\"],[1.0,\"#f0f921\"]]}],\"heatmapgl\":[{\"type\":\"heatmapgl\",\"colorbar\":{\"outlinewidth\":0,\"ticks\":\"\"},\"colorscale\":[[0.0,\"#0d0887\"],[0.1111111111111111,\"#46039f\"],[0.2222222222222222,\"#7201a8\"],[0.3333333333333333,\"#9c179e\"],[0.4444444444444444,\"#bd3786\"],[0.5555555555555556,\"#d8576b\"],[0.6666666666666666,\"#ed7953\"],[0.7777777777777778,\"#fb9f3a\"],[0.8888888888888888,\"#fdca26\"],[1.0,\"#f0f921\"]]}],\"contourcarpet\":[{\"type\":\"contourcarpet\",\"colorbar\":{\"outlinewidth\":0,\"ticks\":\"\"}}],\"contour\":[{\"type\":\"contour\",\"colorbar\":{\"outlinewidth\":0,\"ticks\":\"\"},\"colorscale\":[[0.0,\"#0d0887\"],[0.1111111111111111,\"#46039f\"],[0.2222222222222222,\"#7201a8\"],[0.3333333333333333,\"#9c179e\"],[0.4444444444444444,\"#bd3786\"],[0.5555555555555556,\"#d8576b\"],[0.6666666666666666,\"#ed7953\"],[0.7777777777777778,\"#fb9f3a\"],[0.8888888888888888,\"#fdca26\"],[1.0,\"#f0f921\"]]}],\"surface\":[{\"type\":\"surface\",\"colorbar\":{\"outlinewidth\":0,\"ticks\":\"\"},\"colorscale\":[[0.0,\"#0d0887\"],[0.1111111111111111,\"#46039f\"],[0.2222222222222222,\"#7201a8\"],[0.3333333333333333,\"#9c179e\"],[0.4444444444444444,\"#bd3786\"],[0.5555555555555556,\"#d8576b\"],[0.6666666666666666,\"#ed7953\"],[0.7777777777777778,\"#fb9f3a\"],[0.8888888888888888,\"#fdca26\"],[1.0,\"#f0f921\"]]}],\"mesh3d\":[{\"type\":\"mesh3d\",\"colorbar\":{\"outlinewidth\":0,\"ticks\":\"\"}}],\"scatter\":[{\"fillpattern\":{\"fillmode\":\"overlay\",\"size\":10,\"solidity\":0.2},\"type\":\"scatter\"}],\"parcoords\":[{\"type\":\"parcoords\",\"line\":{\"colorbar\":{\"outlinewidth\":0,\"ticks\":\"\"}}}],\"scatterpolargl\":[{\"type\":\"scatterpolargl\",\"marker\":{\"colorbar\":{\"outlinewidth\":0,\"ticks\":\"\"}}}],\"bar\":[{\"error_x\":{\"color\":\"#2a3f5f\"},\"error_y\":{\"color\":\"#2a3f5f\"},\"marker\":{\"line\":{\"color\":\"#E5ECF6\",\"width\":0.5},\"pattern\":{\"fillmode\":\"overlay\",\"size\":10,\"solidity\":0.2}},\"type\":\"bar\"}],\"scattergeo\":[{\"type\":\"scattergeo\",\"marker\":{\"colorbar\":{\"outlinewidth\":0,\"ticks\":\"\"}}}],\"scatterpolar\":[{\"type\":\"scatterpolar\",\"marker\":{\"colorbar\":{\"outlinewidth\":0,\"ticks\":\"\"}}}],\"histogram\":[{\"marker\":{\"pattern\":{\"fillmode\":\"overlay\",\"size\":10,\"solidity\":0.2}},\"type\":\"histogram\"}],\"scattergl\":[{\"type\":\"scattergl\",\"marker\":{\"colorbar\":{\"outlinewidth\":0,\"ticks\":\"\"}}}],\"scatter3d\":[{\"type\":\"scatter3d\",\"line\":{\"colorbar\":{\"outlinewidth\":0,\"ticks\":\"\"}},\"marker\":{\"colorbar\":{\"outlinewidth\":0,\"ticks\":\"\"}}}],\"scattermapbox\":[{\"type\":\"scattermapbox\",\"marker\":{\"colorbar\":{\"outlinewidth\":0,\"ticks\":\"\"}}}],\"scatterternary\":[{\"type\":\"scatterternary\",\"marker\":{\"colorbar\":{\"outlinewidth\":0,\"ticks\":\"\"}}}],\"scattercarpet\":[{\"type\":\"scattercarpet\",\"marker\":{\"colorbar\":{\"outlinewidth\":0,\"ticks\":\"\"}}}],\"carpet\":[{\"aaxis\":{\"endlinecolor\":\"#2a3f5f\",\"gridcolor\":\"white\",\"linecolor\":\"white\",\"minorgridcolor\":\"white\",\"startlinecolor\":\"#2a3f5f\"},\"baxis\":{\"endlinecolor\":\"#2a3f5f\",\"gridcolor\":\"white\",\"linecolor\":\"white\",\"minorgridcolor\":\"white\",\"startlinecolor\":\"#2a3f5f\"},\"type\":\"carpet\"}],\"table\":[{\"cells\":{\"fill\":{\"color\":\"#EBF0F8\"},\"line\":{\"color\":\"white\"}},\"header\":{\"fill\":{\"color\":\"#C8D4E3\"},\"line\":{\"color\":\"white\"}},\"type\":\"table\"}],\"barpolar\":[{\"marker\":{\"line\":{\"color\":\"#E5ECF6\",\"width\":0.5},\"pattern\":{\"fillmode\":\"overlay\",\"size\":10,\"solidity\":0.2}},\"type\":\"barpolar\"}],\"pie\":[{\"automargin\":true,\"type\":\"pie\"}]},\"layout\":{\"autotypenumbers\":\"strict\",\"colorway\":[\"#636efa\",\"#EF553B\",\"#00cc96\",\"#ab63fa\",\"#FFA15A\",\"#19d3f3\",\"#FF6692\",\"#B6E880\",\"#FF97FF\",\"#FECB52\"],\"font\":{\"color\":\"#2a3f5f\"},\"hovermode\":\"closest\",\"hoverlabel\":{\"align\":\"left\"},\"paper_bgcolor\":\"white\",\"plot_bgcolor\":\"#E5ECF6\",\"polar\":{\"bgcolor\":\"#E5ECF6\",\"angularaxis\":{\"gridcolor\":\"white\",\"linecolor\":\"white\",\"ticks\":\"\"},\"radialaxis\":{\"gridcolor\":\"white\",\"linecolor\":\"white\",\"ticks\":\"\"}},\"ternary\":{\"bgcolor\":\"#E5ECF6\",\"aaxis\":{\"gridcolor\":\"white\",\"linecolor\":\"white\",\"ticks\":\"\"},\"baxis\":{\"gridcolor\":\"white\",\"linecolor\":\"white\",\"ticks\":\"\"},\"caxis\":{\"gridcolor\":\"white\",\"linecolor\":\"white\",\"ticks\":\"\"}},\"coloraxis\":{\"colorbar\":{\"outlinewidth\":0,\"ticks\":\"\"}},\"colorscale\":{\"sequential\":[[0.0,\"#0d0887\"],[0.1111111111111111,\"#46039f\"],[0.2222222222222222,\"#7201a8\"],[0.3333333333333333,\"#9c179e\"],[0.4444444444444444,\"#bd3786\"],[0.5555555555555556,\"#d8576b\"],[0.6666666666666666,\"#ed7953\"],[0.7777777777777778,\"#fb9f3a\"],[0.8888888888888888,\"#fdca26\"],[1.0,\"#f0f921\"]],\"sequentialminus\":[[0.0,\"#0d0887\"],[0.1111111111111111,\"#46039f\"],[0.2222222222222222,\"#7201a8\"],[0.3333333333333333,\"#9c179e\"],[0.4444444444444444,\"#bd3786\"],[0.5555555555555556,\"#d8576b\"],[0.6666666666666666,\"#ed7953\"],[0.7777777777777778,\"#fb9f3a\"],[0.8888888888888888,\"#fdca26\"],[1.0,\"#f0f921\"]],\"diverging\":[[0,\"#8e0152\"],[0.1,\"#c51b7d\"],[0.2,\"#de77ae\"],[0.3,\"#f1b6da\"],[0.4,\"#fde0ef\"],[0.5,\"#f7f7f7\"],[0.6,\"#e6f5d0\"],[0.7,\"#b8e186\"],[0.8,\"#7fbc41\"],[0.9,\"#4d9221\"],[1,\"#276419\"]]},\"xaxis\":{\"gridcolor\":\"white\",\"linecolor\":\"white\",\"ticks\":\"\",\"title\":{\"standoff\":15},\"zerolinecolor\":\"white\",\"automargin\":true,\"zerolinewidth\":2},\"yaxis\":{\"gridcolor\":\"white\",\"linecolor\":\"white\",\"ticks\":\"\",\"title\":{\"standoff\":15},\"zerolinecolor\":\"white\",\"automargin\":true,\"zerolinewidth\":2},\"scene\":{\"xaxis\":{\"backgroundcolor\":\"#E5ECF6\",\"gridcolor\":\"white\",\"linecolor\":\"white\",\"showbackground\":true,\"ticks\":\"\",\"zerolinecolor\":\"white\",\"gridwidth\":2},\"yaxis\":{\"backgroundcolor\":\"#E5ECF6\",\"gridcolor\":\"white\",\"linecolor\":\"white\",\"showbackground\":true,\"ticks\":\"\",\"zerolinecolor\":\"white\",\"gridwidth\":2},\"zaxis\":{\"backgroundcolor\":\"#E5ECF6\",\"gridcolor\":\"white\",\"linecolor\":\"white\",\"showbackground\":true,\"ticks\":\"\",\"zerolinecolor\":\"white\",\"gridwidth\":2}},\"shapedefaults\":{\"line\":{\"color\":\"#2a3f5f\"}},\"annotationdefaults\":{\"arrowcolor\":\"#2a3f5f\",\"arrowhead\":0,\"arrowwidth\":1},\"geo\":{\"bgcolor\":\"white\",\"landcolor\":\"#E5ECF6\",\"subunitcolor\":\"white\",\"showland\":true,\"showlakes\":true,\"lakecolor\":\"white\"},\"title\":{\"x\":0.05},\"mapbox\":{\"style\":\"light\"}}},\"xaxis\":{\"anchor\":\"y\",\"domain\":[0.0,1.0],\"title\":{\"text\":\"U.S. viewers(millions)\"}},\"yaxis\":{\"anchor\":\"x\",\"domain\":[0.0,1.0],\"title\":{\"text\":\"Title\"}},\"legend\":{\"title\":{\"text\":\"Directed by\"},\"tracegroupgap\":0},\"title\":{\"text\":\"The Office - Season 3\"},\"barmode\":\"relative\",\"height\":400},                        {\"responsive\": true}                    ).then(function(){\n",
       "                            \n",
       "var gd = document.getElementById('22dd6244-7212-43bf-a666-888a761990ad');\n",
       "var x = new MutationObserver(function (mutations, observer) {{\n",
       "        var display = window.getComputedStyle(gd).display;\n",
       "        if (!display || display === 'none') {{\n",
       "            console.log([gd, 'removed!']);\n",
       "            Plotly.purge(gd);\n",
       "            observer.disconnect();\n",
       "        }}\n",
       "}});\n",
       "\n",
       "// Listen for the removal of the full notebook cells\n",
       "var notebookContainer = gd.closest('#notebook-container');\n",
       "if (notebookContainer) {{\n",
       "    x.observe(notebookContainer, {childList: true});\n",
       "}}\n",
       "\n",
       "// Listen for the clearing of the current output cell\n",
       "var outputEl = gd.closest('.output');\n",
       "if (outputEl) {{\n",
       "    x.observe(outputEl, {childList: true});\n",
       "}}\n",
       "\n",
       "                        })                };                });            </script>        </div>"
      ]
     },
     "metadata": {},
     "output_type": "display_data"
    }
   ],
   "source": [
    "fig = px.bar(season3, x=\"U.S. viewers(millions)\", y=\"Title\", color='Directed by', orientation='h',\n",
    "             hover_data=[\"No.overall\", \"No. inseason\", 'Written by', 'Original air date [16]'],\n",
    "             height=400,\n",
    "             title='The Office - Season 3')\n",
    "fig.show()"
   ]
  },
  {
   "cell_type": "code",
   "execution_count": null,
   "id": "4b467473",
   "metadata": {},
   "outputs": [],
   "source": []
  }
 ],
 "metadata": {
  "kernelspec": {
   "display_name": "Python 3 (ipykernel)",
   "language": "python",
   "name": "python3"
  },
  "language_info": {
   "codemirror_mode": {
    "name": "ipython",
    "version": 3
   },
   "file_extension": ".py",
   "mimetype": "text/x-python",
   "name": "python",
   "nbconvert_exporter": "python",
   "pygments_lexer": "ipython3",
   "version": "3.9.13"
  }
 },
 "nbformat": 4,
 "nbformat_minor": 5
}
